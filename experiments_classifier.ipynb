{
 "cells": [
  {
   "cell_type": "code",
   "execution_count": 1,
   "metadata": {},
   "outputs": [],
   "source": [
    "def warn(*args, **kwargs):\n",
    "    pass\n",
    "import warnings\n",
    "warnings.warn = warn\n",
    "from pathlib import Path\n",
    "import ontology.Schema as sc\n",
    "import qai.QAI_Manager as q\n",
    "import pickle\n",
    "import os\n",
    "from nlp.NLP_Processor import NLP_Processor\n",
    "from classifier.ML_Classifier import ML_Classifier\n",
    "from nlp.NER_Trainer import NER_Trainer \n",
    "from datetime import datetime\n",
    "import spacy\n",
    "import nlp.Solr_Connection as solr_connection\n",
    "import pandas as pd\n",
    "\n",
    "from config import *  #Change configurations in file \"config.py\"\n",
    "\n",
    "\n",
    "%matplotlib inline\n"
   ]
  },
  {
   "cell_type": "code",
   "execution_count": 2,
   "metadata": {},
   "outputs": [],
   "source": [
    "def train_QAIs():  \n",
    "    schema = sc.getGraph(ontology_path)\n",
    "    classes_index = sc.load_classes_index(schema)\n",
    "    properties_index = sc.load_properties_index(schema)\n",
    "    schema.close()\n",
    "    QAI_Manager = q.QAI_Manager(QAIs_path,properties_index)\n",
    "    ner_trainer = NER_Trainer(QAI_Manager.QAIs,classes_index,sparql_endpoint,graph_name,solr_host,solr_port,solr_core)\n",
    "    ner_trainer.make_train_dataset(savePath=path_train_NER_temp)\n",
    "    return QAI_Manager"
   ]
  },
  {
   "cell_type": "code",
   "execution_count": 3,
   "metadata": {},
   "outputs": [],
   "source": [
    "def pre_process_classifier(QAI_Manager,use_semantic_features = True,number_qp_samples = 0):\n",
    "    labels_path = os.path.join(path_train_NER_temp,\"labels.sav\")\n",
    "    with open(labels_path,\"rb\") as file:\n",
    "        labels_NER = pickle.load(file)\n",
    "    nlp_processor = NLP_Processor(labels_NER,nlp_model_load,startup_solr=False)\n",
    "    QAI_Manager.compute_SVs(nlp_processor)\n",
    "    X,y = ML_Classifier.pre_process_data(QAI_Manager.QAIs,nlp_processor,use_semantic_features,number_qp_samples)\n",
    "    return X,y\n"
   ]
  },
  {
   "cell_type": "code",
   "execution_count": 4,
   "metadata": {},
   "outputs": [],
   "source": [
    "def train_classifier(X,y,model = None):\n",
    "    classifier = ML_Classifier(model_path=\"persistence/classifier\",model_file=\"ml_classifier.sav\",model = model)\n",
    "    time = classifier.fit(X,y)\n",
    "    return classifier,time"
   ]
  },
  {
   "cell_type": "markdown",
   "metadata": {},
   "source": [
    "# Experiments without Semantic Features (Only Syntatic Features)"
   ]
  },
  {
   "cell_type": "code",
   "execution_count": 88,
   "metadata": {},
   "outputs": [
    {
     "name": "stdout",
     "output_type": "stream",
     "text": [
      "Creating train dataset\n",
      "Created train dataset\n",
      "Using semantic features False. QPs limited False\n"
     ]
    }
   ],
   "source": [
    "QAIs_path = \"input/medibot/MediBot.json\"\n",
    "QAI_Manager = train_QAIs()\n",
    "X,y = pre_process_classifier(QAI_Manager,use_semantic_features = False,number_qp_samples = 0)\n"
   ]
  },
  {
   "cell_type": "code",
   "execution_count": 89,
   "metadata": {},
   "outputs": [],
   "source": [
    "results = []"
   ]
  },
  {
   "cell_type": "code",
   "execution_count": 90,
   "metadata": {},
   "outputs": [
    {
     "name": "stdout",
     "output_type": "stream",
     "text": [
      "Using customized model\n",
      "Training classifier done! Elapsed time: 0:00:00.057432\n",
      "\n",
      "\n",
      "Score evaluations using cross validation with cv = 5:\n",
      "Precision = 0.7725\n",
      "Recall = 0.7125\n",
      "F-1 Score = 0.705952380952381\n"
     ]
    }
   ],
   "source": [
    "from sklearn.naive_bayes import GaussianNB\n",
    "model = GaussianNB()\n",
    "\n",
    "clf,t = train_classifier(X,y,model = model)\n",
    "p,r,f = clf.eval_model(X,y)\n",
    "results.append([type(clf.model).__name__,p,r,f,t])"
   ]
  },
  {
   "cell_type": "code",
   "execution_count": 91,
   "metadata": {},
   "outputs": [
    {
     "name": "stdout",
     "output_type": "stream",
     "text": [
      "Using customized model\n",
      "Training classifier done! Elapsed time: 0:00:00.014469\n",
      "\n",
      "\n",
      "Score evaluations using cross validation with cv = 5:\n",
      "Precision = 0.6066666666666667\n",
      "Recall = 0.6\n",
      "F-1 Score = 0.5654761904761905\n"
     ]
    }
   ],
   "source": [
    "from sklearn.naive_bayes import BernoulliNB\n",
    "model = BernoulliNB()\n",
    "\n",
    "clf,t = train_classifier(X,y,model = model)\n",
    "p,r,f = clf.eval_model(X,y)\n",
    "results.append([type(clf.model).__name__,p,r,f,t])"
   ]
  },
  {
   "cell_type": "code",
   "execution_count": 92,
   "metadata": {},
   "outputs": [
    {
     "name": "stdout",
     "output_type": "stream",
     "text": [
      "Using customized model\n",
      "Training classifier done! Elapsed time: 0:00:00.989635\n",
      "\n",
      "\n",
      "Score evaluations using cross validation with cv = 5:\n",
      "Precision = 0.8\n",
      "Recall = 0.7875\n",
      "F-1 Score = 0.7641666666666668\n"
     ]
    }
   ],
   "source": [
    "from sklearn.linear_model import LogisticRegression\n",
    "model = LogisticRegression(random_state=0, solver='lbfgs',multi_class='multinomial',n_jobs=-1)\n",
    "\n",
    "clf,t = train_classifier(X,y,model = model)\n",
    "p,r,f = clf.eval_model(X,y)\n",
    "results.append([type(clf.model).__name__,p,r,f,t])"
   ]
  },
  {
   "cell_type": "code",
   "execution_count": 93,
   "metadata": {},
   "outputs": [
    {
     "name": "stdout",
     "output_type": "stream",
     "text": [
      "Using customized model\n",
      "Training classifier done! Elapsed time: 0:00:00.014825\n",
      "\n",
      "\n",
      "Score evaluations using cross validation with cv = 5:\n",
      "Precision = 0.5391666666666666\n",
      "Recall = 0.575\n",
      "F-1 Score = 0.5201190476190476\n"
     ]
    }
   ],
   "source": [
    "from sklearn.svm import SVC\n",
    "model = SVC(gamma='auto')\n",
    "\n",
    "clf,t = train_classifier(X,y,model = model)\n",
    "p,r,f = clf.eval_model(X,y)\n",
    "results.append([type(clf.model).__name__+\" auto\",p,r,f,t])"
   ]
  },
  {
   "cell_type": "code",
   "execution_count": 94,
   "metadata": {},
   "outputs": [
    {
     "name": "stdout",
     "output_type": "stream",
     "text": [
      "Using customized model\n",
      "Training classifier done! Elapsed time: 0:00:00.010279\n",
      "\n",
      "\n",
      "Score evaluations using cross validation with cv = 5:\n",
      "Precision = 0.9166666666666666\n",
      "Recall = 0.875\n",
      "F-1 Score = 0.8700000000000001\n"
     ]
    }
   ],
   "source": [
    "from sklearn.svm import SVC\n",
    "model = SVC(C=1, kernel=\"linear\")\n",
    "\n",
    "\n",
    "clf,t = train_classifier(X,y,model = model)\n",
    "p,r,f = clf.eval_model(X,y)\n",
    "results.append([type(clf.model).__name__+\" linear\",p,r,f,t])"
   ]
  },
  {
   "cell_type": "code",
   "execution_count": 95,
   "metadata": {},
   "outputs": [
    {
     "name": "stdout",
     "output_type": "stream",
     "text": [
      "Using customized model\n",
      "Training classifier done! Elapsed time: 0:00:00.006410\n",
      "\n",
      "\n",
      "Score evaluations using cross validation with cv = 5:\n",
      "Precision = 0.5458333333333333\n",
      "Recall = 0.575\n",
      "F-1 Score = 0.5341666666666666\n"
     ]
    }
   ],
   "source": [
    "from sklearn.tree import DecisionTreeClassifier\n",
    "model = DecisionTreeClassifier(random_state=0)\n",
    "\n",
    "clf,t = train_classifier(X,y,model = model)\n",
    "p,r,f = clf.eval_model(X,y)\n",
    "results.append([type(clf.model).__name__,p,r,f,t])"
   ]
  },
  {
   "cell_type": "code",
   "execution_count": 96,
   "metadata": {},
   "outputs": [
    {
     "name": "stdout",
     "output_type": "stream",
     "text": [
      "Using customized model\n",
      "Training classifier done! Elapsed time: 0:00:00.019754\n",
      "\n",
      "\n",
      "Score evaluations using cross validation with cv = 5:\n",
      "Precision = 0.6354166666666665\n",
      "Recall = 0.7\n",
      "F-1 Score = 0.625\n"
     ]
    }
   ],
   "source": [
    "from sklearn.ensemble import RandomForestClassifier\n",
    "model = RandomForestClassifier()\n",
    "\n",
    "clf,t = train_classifier(X,y,model = model)\n",
    "p,r,f = clf.eval_model(X,y)\n",
    "results.append([type(clf.model).__name__,p,r,f,t])"
   ]
  },
  {
   "cell_type": "code",
   "execution_count": 97,
   "metadata": {},
   "outputs": [
    {
     "name": "stdout",
     "output_type": "stream",
     "text": [
      "Using customized model\n",
      "Training classifier done! Elapsed time: 0:00:00.004696\n",
      "\n",
      "\n",
      "Score evaluations using cross validation with cv = 5:\n",
      "Precision = 0.63125\n",
      "Recall = 0.625\n",
      "F-1 Score = 0.5916666666666666\n"
     ]
    }
   ],
   "source": [
    "from sklearn.neighbors.nearest_centroid import NearestCentroid\n",
    "model = NearestCentroid()\n",
    "\n",
    "clf,t = train_classifier(X,y,model = model)\n",
    "p,r,f = clf.eval_model(X,y)\n",
    "results.append([type(clf.model).__name__,p,r,f,t])"
   ]
  },
  {
   "cell_type": "code",
   "execution_count": 98,
   "metadata": {},
   "outputs": [
    {
     "name": "stdout",
     "output_type": "stream",
     "text": [
      "Using customized model\n",
      "Training classifier done! Elapsed time: 0:00:00.302083\n",
      "\n",
      "\n",
      "Score evaluations using cross validation with cv = 5:\n",
      "Precision = 0.9208333333333332\n",
      "Recall = 0.9\n",
      "F-1 Score = 0.8816666666666666\n"
     ]
    }
   ],
   "source": [
    "from sklearn.neural_network import MLPClassifier\n",
    "model = MLPClassifier()\n",
    "\n",
    "clf,t = train_classifier(X,y,model = model)\n",
    "p,r,f = clf.eval_model(X,y)\n",
    "results.append([type(clf.model).__name__+\" 1 layer\",p,r,f,t])"
   ]
  },
  {
   "cell_type": "code",
   "execution_count": 99,
   "metadata": {},
   "outputs": [
    {
     "name": "stdout",
     "output_type": "stream",
     "text": [
      "Using customized model\n",
      "Training classifier done! Elapsed time: 0:00:00.177650\n",
      "\n",
      "\n",
      "Score evaluations using cross validation with cv = 5:\n",
      "Precision = 0.9458333333333332\n",
      "Recall = 0.8875\n",
      "F-1 Score = 0.9066666666666666\n"
     ]
    }
   ],
   "source": [
    "from sklearn.neural_network import MLPClassifier\n",
    "model = MLPClassifier(hidden_layer_sizes=(100,100))\n",
    "\n",
    "clf,t = train_classifier(X,y,model = model)\n",
    "p,r,f = clf.eval_model(X,y)\n",
    "results.append([type(clf.model).__name__+\" 2 layers\",p,r,f,t])"
   ]
  },
  {
   "cell_type": "code",
   "execution_count": 100,
   "metadata": {},
   "outputs": [
    {
     "name": "stdout",
     "output_type": "stream",
     "text": [
      "Using customized model\n",
      "Training classifier done! Elapsed time: 0:00:00.074769\n",
      "\n",
      "\n",
      "Score evaluations using cross validation with cv = 5:\n",
      "Precision = 0.17202380952380952\n",
      "Recall = 0.2875\n",
      "F-1 Score = 0.17477124183006537\n"
     ]
    }
   ],
   "source": [
    "from sklearn.ensemble import AdaBoostClassifier\n",
    "model = AdaBoostClassifier()\n",
    "\n",
    "clf,t = train_classifier(X,y,model = model)\n",
    "p,r,f = clf.eval_model(X,y)\n",
    "results.append([type(clf.model).__name__,p,r,f,t])"
   ]
  },
  {
   "cell_type": "code",
   "execution_count": 101,
   "metadata": {},
   "outputs": [
    {
     "name": "stdout",
     "output_type": "stream",
     "text": [
      "Using customized model\n",
      "Training classifier done! Elapsed time: 0:00:00.081407\n",
      "\n",
      "\n",
      "Score evaluations using cross validation with cv = 5:\n",
      "Precision = 0.7541666666666665\n",
      "Recall = 0.8125\n",
      "F-1 Score = 0.7700000000000001\n"
     ]
    }
   ],
   "source": [
    "from sklearn.ensemble import AdaBoostClassifier\n",
    "from sklearn.ensemble import RandomForestClassifier\n",
    "model = AdaBoostClassifier(base_estimator=RandomForestClassifier(n_estimators=100),n_estimators=100,learning_rate=0.5)\n",
    "\n",
    "clf,t = train_classifier(X,y,model = model)\n",
    "p,r,f = clf.eval_model(X,y)\n",
    "results.append([type(clf.model).__name__+\" (RandomForest)\",p,r,f,t])"
   ]
  },
  {
   "cell_type": "code",
   "execution_count": 102,
   "metadata": {},
   "outputs": [
    {
     "name": "stdout",
     "output_type": "stream",
     "text": [
      "Using customized model\n",
      "Training classifier done! Elapsed time: 0:00:00.004144\n",
      "\n",
      "\n",
      "Score evaluations using cross validation with cv = 5:\n",
      "Precision = 0.44875\n",
      "Recall = 0.475\n",
      "F-1 Score = 0.41869047619047617\n"
     ]
    }
   ],
   "source": [
    "from sklearn.neighbors import KNeighborsClassifier\n",
    "model = KNeighborsClassifier()\n",
    "\n",
    "\n",
    "clf,t = train_classifier(X,y,model = model)\n",
    "p,r,f = clf.eval_model(X,y)\n",
    "results.append([type(clf.model).__name__,p,r,f,t])"
   ]
  },
  {
   "cell_type": "code",
   "execution_count": 103,
   "metadata": {},
   "outputs": [
    {
     "name": "stdout",
     "output_type": "stream",
     "text": [
      "Using customized model\n",
      "Training classifier done! Elapsed time: 0:00:00.003910\n",
      "\n",
      "\n",
      "Score evaluations using cross validation with cv = 5:\n",
      "Precision = 0.7079166666666666\n",
      "Recall = 0.675\n",
      "F-1 Score = 0.6576190476190475\n"
     ]
    }
   ],
   "source": [
    "from sklearn.neighbors import KNeighborsClassifier\n",
    "model = KNeighborsClassifier(n_neighbors=1)\n",
    "\n",
    "\n",
    "clf,t = train_classifier(X,y,model = model)\n",
    "p,r,f = clf.eval_model(X,y)\n",
    "results.append(['Nearest Neighbor',p,r,f,t])"
   ]
  },
  {
   "cell_type": "code",
   "execution_count": 104,
   "metadata": {},
   "outputs": [
    {
     "name": "stdout",
     "output_type": "stream",
     "text": [
      "Using customized model\n",
      "Training classifier done! Elapsed time: 0:00:00.007172\n",
      "\n",
      "\n",
      "Score evaluations using cross validation with cv = 5:\n",
      "Precision = 0.41380952380952374\n",
      "Recall = 0.4375\n",
      "F-1 Score = 0.3878968253968254\n"
     ]
    }
   ],
   "source": [
    "from sklearn.discriminant_analysis import QuadraticDiscriminantAnalysis\n",
    "model = QuadraticDiscriminantAnalysis()\n",
    "\n",
    "\n",
    "clf,t = train_classifier(X,y,model = model)\n",
    "p,r,f = clf.eval_model(X,y)\n",
    "results.append([type(clf.model).__name__,p,r,f,t])"
   ]
  },
  {
   "cell_type": "code",
   "execution_count": 105,
   "metadata": {},
   "outputs": [
    {
     "name": "stdout",
     "output_type": "stream",
     "text": [
      "Using customized model\n",
      "Training classifier done! Elapsed time: 0:00:00.137478\n",
      "\n",
      "\n",
      "Score evaluations using cross validation with cv = 5:\n",
      "Precision = 0.7725\n",
      "Recall = 0.7125\n",
      "F-1 Score = 0.705952380952381\n"
     ]
    }
   ],
   "source": [
    "from sklearn.naive_bayes import GaussianNB\n",
    "from sklearn.linear_model import LogisticRegression\n",
    "from sklearn.ensemble import  VotingClassifier\n",
    "gaussian = GaussianNB()\n",
    "linear = LogisticRegression(random_state=0, solver='lbfgs',multi_class='multinomial',n_jobs=-1)\n",
    "\n",
    "model = VotingClassifier(estimators=[('gaus', gaussian), ('line', linear)],voting='soft',n_jobs=-1)\n",
    "\n",
    "\n",
    "clf,t = train_classifier(X,y,model = model)\n",
    "p,r,f = clf.eval_model(X,y)\n",
    "results.append([\"Soft \"+type(clf.model).__name__+\" (GaussianNB + LogisticRegression)\",p,r,f,t])"
   ]
  },
  {
   "cell_type": "code",
   "execution_count": 106,
   "metadata": {},
   "outputs": [
    {
     "data": {
      "text/html": [
       "<div>\n",
       "<style scoped>\n",
       "    .dataframe tbody tr th:only-of-type {\n",
       "        vertical-align: middle;\n",
       "    }\n",
       "\n",
       "    .dataframe tbody tr th {\n",
       "        vertical-align: top;\n",
       "    }\n",
       "\n",
       "    .dataframe thead th {\n",
       "        text-align: right;\n",
       "    }\n",
       "</style>\n",
       "<table border=\"1\" class=\"dataframe\">\n",
       "  <thead>\n",
       "    <tr style=\"text-align: right;\">\n",
       "      <th></th>\n",
       "      <th>Classifier</th>\n",
       "      <th>Precision</th>\n",
       "      <th>Recall</th>\n",
       "      <th>F1</th>\n",
       "      <th>Time</th>\n",
       "    </tr>\n",
       "  </thead>\n",
       "  <tbody>\n",
       "    <tr>\n",
       "      <th>9</th>\n",
       "      <td>MLPClassifier 2 layers</td>\n",
       "      <td>0.945833</td>\n",
       "      <td>0.8875</td>\n",
       "      <td>0.906667</td>\n",
       "      <td>00:00:00.177650</td>\n",
       "    </tr>\n",
       "    <tr>\n",
       "      <th>8</th>\n",
       "      <td>MLPClassifier 1 layer</td>\n",
       "      <td>0.920833</td>\n",
       "      <td>0.9000</td>\n",
       "      <td>0.881667</td>\n",
       "      <td>00:00:00.302083</td>\n",
       "    </tr>\n",
       "    <tr>\n",
       "      <th>4</th>\n",
       "      <td>SVC linear</td>\n",
       "      <td>0.916667</td>\n",
       "      <td>0.8750</td>\n",
       "      <td>0.870000</td>\n",
       "      <td>00:00:00.010279</td>\n",
       "    </tr>\n",
       "    <tr>\n",
       "      <th>11</th>\n",
       "      <td>AdaBoostClassifier (RandomForest)</td>\n",
       "      <td>0.754167</td>\n",
       "      <td>0.8125</td>\n",
       "      <td>0.770000</td>\n",
       "      <td>00:00:00.081407</td>\n",
       "    </tr>\n",
       "    <tr>\n",
       "      <th>2</th>\n",
       "      <td>LogisticRegression</td>\n",
       "      <td>0.800000</td>\n",
       "      <td>0.7875</td>\n",
       "      <td>0.764167</td>\n",
       "      <td>00:00:00.989635</td>\n",
       "    </tr>\n",
       "    <tr>\n",
       "      <th>0</th>\n",
       "      <td>GaussianNB</td>\n",
       "      <td>0.772500</td>\n",
       "      <td>0.7125</td>\n",
       "      <td>0.705952</td>\n",
       "      <td>00:00:00.057432</td>\n",
       "    </tr>\n",
       "    <tr>\n",
       "      <th>15</th>\n",
       "      <td>Soft VotingClassifier (GaussianNB + LogisticRe...</td>\n",
       "      <td>0.772500</td>\n",
       "      <td>0.7125</td>\n",
       "      <td>0.705952</td>\n",
       "      <td>00:00:00.137478</td>\n",
       "    </tr>\n",
       "    <tr>\n",
       "      <th>13</th>\n",
       "      <td>Nearest Neighbor</td>\n",
       "      <td>0.707917</td>\n",
       "      <td>0.6750</td>\n",
       "      <td>0.657619</td>\n",
       "      <td>00:00:00.003910</td>\n",
       "    </tr>\n",
       "    <tr>\n",
       "      <th>6</th>\n",
       "      <td>RandomForestClassifier</td>\n",
       "      <td>0.635417</td>\n",
       "      <td>0.7000</td>\n",
       "      <td>0.625000</td>\n",
       "      <td>00:00:00.019754</td>\n",
       "    </tr>\n",
       "    <tr>\n",
       "      <th>7</th>\n",
       "      <td>NearestCentroid</td>\n",
       "      <td>0.631250</td>\n",
       "      <td>0.6250</td>\n",
       "      <td>0.591667</td>\n",
       "      <td>00:00:00.004696</td>\n",
       "    </tr>\n",
       "    <tr>\n",
       "      <th>1</th>\n",
       "      <td>BernoulliNB</td>\n",
       "      <td>0.606667</td>\n",
       "      <td>0.6000</td>\n",
       "      <td>0.565476</td>\n",
       "      <td>00:00:00.014469</td>\n",
       "    </tr>\n",
       "    <tr>\n",
       "      <th>5</th>\n",
       "      <td>DecisionTreeClassifier</td>\n",
       "      <td>0.545833</td>\n",
       "      <td>0.5750</td>\n",
       "      <td>0.534167</td>\n",
       "      <td>00:00:00.006410</td>\n",
       "    </tr>\n",
       "    <tr>\n",
       "      <th>3</th>\n",
       "      <td>SVC auto</td>\n",
       "      <td>0.539167</td>\n",
       "      <td>0.5750</td>\n",
       "      <td>0.520119</td>\n",
       "      <td>00:00:00.014825</td>\n",
       "    </tr>\n",
       "    <tr>\n",
       "      <th>12</th>\n",
       "      <td>KNeighborsClassifier</td>\n",
       "      <td>0.448750</td>\n",
       "      <td>0.4750</td>\n",
       "      <td>0.418690</td>\n",
       "      <td>00:00:00.004144</td>\n",
       "    </tr>\n",
       "    <tr>\n",
       "      <th>14</th>\n",
       "      <td>QuadraticDiscriminantAnalysis</td>\n",
       "      <td>0.413810</td>\n",
       "      <td>0.4375</td>\n",
       "      <td>0.387897</td>\n",
       "      <td>00:00:00.007172</td>\n",
       "    </tr>\n",
       "    <tr>\n",
       "      <th>10</th>\n",
       "      <td>AdaBoostClassifier</td>\n",
       "      <td>0.172024</td>\n",
       "      <td>0.2875</td>\n",
       "      <td>0.174771</td>\n",
       "      <td>00:00:00.074769</td>\n",
       "    </tr>\n",
       "  </tbody>\n",
       "</table>\n",
       "</div>"
      ],
      "text/plain": [
       "                                           Classifier  Precision  Recall  \\\n",
       "9                              MLPClassifier 2 layers   0.945833  0.8875   \n",
       "8                               MLPClassifier 1 layer   0.920833  0.9000   \n",
       "4                                          SVC linear   0.916667  0.8750   \n",
       "11                  AdaBoostClassifier (RandomForest)   0.754167  0.8125   \n",
       "2                                  LogisticRegression   0.800000  0.7875   \n",
       "0                                          GaussianNB   0.772500  0.7125   \n",
       "15  Soft VotingClassifier (GaussianNB + LogisticRe...   0.772500  0.7125   \n",
       "13                                   Nearest Neighbor   0.707917  0.6750   \n",
       "6                              RandomForestClassifier   0.635417  0.7000   \n",
       "7                                     NearestCentroid   0.631250  0.6250   \n",
       "1                                         BernoulliNB   0.606667  0.6000   \n",
       "5                              DecisionTreeClassifier   0.545833  0.5750   \n",
       "3                                            SVC auto   0.539167  0.5750   \n",
       "12                               KNeighborsClassifier   0.448750  0.4750   \n",
       "14                      QuadraticDiscriminantAnalysis   0.413810  0.4375   \n",
       "10                                 AdaBoostClassifier   0.172024  0.2875   \n",
       "\n",
       "          F1            Time  \n",
       "9   0.906667 00:00:00.177650  \n",
       "8   0.881667 00:00:00.302083  \n",
       "4   0.870000 00:00:00.010279  \n",
       "11  0.770000 00:00:00.081407  \n",
       "2   0.764167 00:00:00.989635  \n",
       "0   0.705952 00:00:00.057432  \n",
       "15  0.705952 00:00:00.137478  \n",
       "13  0.657619 00:00:00.003910  \n",
       "6   0.625000 00:00:00.019754  \n",
       "7   0.591667 00:00:00.004696  \n",
       "1   0.565476 00:00:00.014469  \n",
       "5   0.534167 00:00:00.006410  \n",
       "3   0.520119 00:00:00.014825  \n",
       "12  0.418690 00:00:00.004144  \n",
       "14  0.387897 00:00:00.007172  \n",
       "10  0.174771 00:00:00.074769  "
      ]
     },
     "execution_count": 106,
     "metadata": {},
     "output_type": "execute_result"
    }
   ],
   "source": [
    "evaluations = pd.DataFrame(results,columns=['Classifier','Precision','Recall','F1','Time'])\n",
    "top = evaluations.sort_values(['F1','Time'],ascending=[False,True])\n",
    "top.to_csv(\"evaluations_syntatic.csv\", encoding='utf-8', index=False)\n",
    "top\n",
    "# evaluations.to_csv(\"evaluations_syntatic.csv\", encoding='utf-8', index=False)\n",
    "# evaluations"
   ]
  },
  {
   "cell_type": "markdown",
   "metadata": {},
   "source": [
    "# Experiments using Semantic Features"
   ]
  },
  {
   "cell_type": "code",
   "execution_count": 38,
   "metadata": {},
   "outputs": [
    {
     "name": "stdout",
     "output_type": "stream",
     "text": [
      "Creating train dataset\n",
      "Created train dataset\n",
      "Using semantic features True. QPs limited False\n"
     ]
    }
   ],
   "source": [
    "QAIs_path = \"input/medibot/MediBot.json\"\n",
    "QAI_Manager = train_QAIs()\n",
    "X,y = pre_process_classifier(QAI_Manager,use_semantic_features = True,number_qp_samples = 0)\n"
   ]
  },
  {
   "cell_type": "code",
   "execution_count": 39,
   "metadata": {},
   "outputs": [],
   "source": [
    "results = []"
   ]
  },
  {
   "cell_type": "code",
   "execution_count": 40,
   "metadata": {},
   "outputs": [
    {
     "name": "stdout",
     "output_type": "stream",
     "text": [
      "Using customized model\n",
      "Training classifier done! Elapsed time: 0:00:00.005808\n",
      "\n",
      "\n",
      "Score evaluations using cross validation with cv = 5:\n",
      "Precision = 0.9833333333333332\n",
      "Recall = 0.975\n",
      "F-1 Score = 0.9733333333333334\n"
     ]
    }
   ],
   "source": [
    "from sklearn.naive_bayes import GaussianNB\n",
    "model = GaussianNB()\n",
    "\n",
    "clf,t = train_classifier(X,y,model = model)\n",
    "p,r,f = clf.eval_model(X,y)\n",
    "results.append([type(clf.model).__name__,p,r,f,t])"
   ]
  },
  {
   "cell_type": "code",
   "execution_count": 110,
   "metadata": {},
   "outputs": [
    {
     "name": "stdout",
     "output_type": "stream",
     "text": [
      "Using customized model\n",
      "Training classifier done! Elapsed time: 0:00:00.004965\n",
      "\n",
      "\n",
      "Score evaluations using cross validation with cv = 5:\n",
      "Precision = 0.6641666666666666\n",
      "Recall = 0.6875\n",
      "F-1 Score = 0.6451190476190476\n"
     ]
    }
   ],
   "source": [
    "from sklearn.naive_bayes import BernoulliNB\n",
    "model = BernoulliNB()\n",
    "\n",
    "clf,t = train_classifier(X,y,model = model)\n",
    "p,r,f = clf.eval_model(X,y)\n",
    "results.append([type(clf.model).__name__,p,r,f,t])"
   ]
  },
  {
   "cell_type": "code",
   "execution_count": 111,
   "metadata": {},
   "outputs": [
    {
     "name": "stdout",
     "output_type": "stream",
     "text": [
      "Using customized model\n",
      "Training classifier done! Elapsed time: 0:00:00.039211\n",
      "\n",
      "\n",
      "Score evaluations using cross validation with cv = 5:\n",
      "Precision = 0.9583333333333333\n",
      "Recall = 0.9375\n",
      "F-1 Score = 0.9333333333333333\n"
     ]
    }
   ],
   "source": [
    "from sklearn.linear_model import LogisticRegression\n",
    "model = LogisticRegression(random_state=0, solver='lbfgs',multi_class='multinomial',n_jobs=-1)\n",
    "\n",
    "clf,t = train_classifier(X,y,model = model)\n",
    "p,r,f = clf.eval_model(X,y)\n",
    "results.append([type(clf.model).__name__,p,r,f,t])"
   ]
  },
  {
   "cell_type": "code",
   "execution_count": 112,
   "metadata": {},
   "outputs": [
    {
     "name": "stdout",
     "output_type": "stream",
     "text": [
      "Using customized model\n",
      "Training classifier done! Elapsed time: 0:00:00.005297\n",
      "\n",
      "\n",
      "Score evaluations using cross validation with cv = 5:\n",
      "Precision = 0.7491666666666666\n",
      "Recall = 0.775\n",
      "F-1 Score = 0.7319047619047618\n"
     ]
    }
   ],
   "source": [
    "from sklearn.svm import SVC\n",
    "model = SVC(gamma='auto')\n",
    "\n",
    "clf,t = train_classifier(X,y,model = model)\n",
    "p,r,f = clf.eval_model(X,y)\n",
    "results.append([type(clf.model).__name__+\" auto\",p,r,f,t])"
   ]
  },
  {
   "cell_type": "code",
   "execution_count": 113,
   "metadata": {},
   "outputs": [
    {
     "name": "stdout",
     "output_type": "stream",
     "text": [
      "Using customized model\n",
      "Training classifier done! Elapsed time: 0:00:00.006388\n",
      "\n",
      "\n",
      "Score evaluations using cross validation with cv = 5:\n",
      "Precision = 0.9833333333333332\n",
      "Recall = 0.975\n",
      "F-1 Score = 0.9733333333333334\n"
     ]
    }
   ],
   "source": [
    "from sklearn.svm import SVC\n",
    "model = SVC(C=1, kernel=\"linear\")\n",
    "\n",
    "\n",
    "clf,t = train_classifier(X,y,model = model)\n",
    "p,r,f = clf.eval_model(X,y)\n",
    "results.append([type(clf.model).__name__+\" linear\",p,r,f,t])"
   ]
  },
  {
   "cell_type": "code",
   "execution_count": 114,
   "metadata": {},
   "outputs": [
    {
     "name": "stdout",
     "output_type": "stream",
     "text": [
      "Using customized model\n",
      "Training classifier done! Elapsed time: 0:00:00.120612\n",
      "\n",
      "\n",
      "Score evaluations using cross validation with cv = 5:\n",
      "Precision = 0.8583333333333332\n",
      "Recall = 0.875\n",
      "F-1 Score = 0.8608333333333332\n"
     ]
    }
   ],
   "source": [
    "from sklearn.tree import DecisionTreeClassifier\n",
    "model = DecisionTreeClassifier(random_state=0)\n",
    "\n",
    "clf,t = train_classifier(X,y,model = model)\n",
    "p,r,f = clf.eval_model(X,y)\n",
    "results.append([type(clf.model).__name__,p,r,f,t])"
   ]
  },
  {
   "cell_type": "code",
   "execution_count": 115,
   "metadata": {},
   "outputs": [
    {
     "name": "stdout",
     "output_type": "stream",
     "text": [
      "Using customized model\n",
      "Training classifier done! Elapsed time: 0:00:00.015814\n",
      "\n",
      "\n",
      "Score evaluations using cross validation with cv = 5:\n",
      "Precision = 0.7370833333333333\n",
      "Recall = 0.7\n",
      "F-1 Score = 0.7030952380952382\n"
     ]
    }
   ],
   "source": [
    "from sklearn.ensemble import RandomForestClassifier\n",
    "model = RandomForestClassifier()\n",
    "\n",
    "clf,t = train_classifier(X,y,model = model)\n",
    "p,r,f = clf.eval_model(X,y)\n",
    "results.append([type(clf.model).__name__,p,r,f,t])"
   ]
  },
  {
   "cell_type": "code",
   "execution_count": 116,
   "metadata": {},
   "outputs": [
    {
     "name": "stdout",
     "output_type": "stream",
     "text": [
      "Using customized model\n",
      "Training classifier done! Elapsed time: 0:00:00.043969\n",
      "\n",
      "\n",
      "Score evaluations using cross validation with cv = 5:\n",
      "Precision = 0.8558333333333332\n",
      "Recall = 0.8375\n",
      "F-1 Score = 0.8226190476190476\n"
     ]
    }
   ],
   "source": [
    "from sklearn.neighbors.nearest_centroid import NearestCentroid\n",
    "model = NearestCentroid()\n",
    "\n",
    "clf,t = train_classifier(X,y,model = model)\n",
    "p,r,f = clf.eval_model(X,y)\n",
    "results.append([type(clf.model).__name__,p,r,f,t])"
   ]
  },
  {
   "cell_type": "code",
   "execution_count": 117,
   "metadata": {},
   "outputs": [
    {
     "name": "stdout",
     "output_type": "stream",
     "text": [
      "Using customized model\n",
      "Training classifier done! Elapsed time: 0:00:03.552941\n",
      "\n",
      "\n",
      "Score evaluations using cross validation with cv = 5:\n",
      "Precision = 0.9666666666666666\n",
      "Recall = 0.9625\n",
      "F-1 Score = 0.96\n"
     ]
    }
   ],
   "source": [
    "from sklearn.neural_network import MLPClassifier\n",
    "model = MLPClassifier()\n",
    "\n",
    "clf,t = train_classifier(X,y,model = model)\n",
    "p,r,f = clf.eval_model(X,y)\n",
    "results.append([type(clf.model).__name__+\" 1 layer\",p,r,f,t])"
   ]
  },
  {
   "cell_type": "code",
   "execution_count": 118,
   "metadata": {},
   "outputs": [
    {
     "name": "stdout",
     "output_type": "stream",
     "text": [
      "Using customized model\n",
      "Training classifier done! Elapsed time: 0:00:00.206763\n",
      "\n",
      "\n",
      "Score evaluations using cross validation with cv = 5:\n",
      "Precision = 0.9666666666666666\n",
      "Recall = 0.9625\n",
      "F-1 Score = 0.9600000000000002\n"
     ]
    }
   ],
   "source": [
    "from sklearn.neural_network import MLPClassifier\n",
    "model = MLPClassifier(hidden_layer_sizes=(100,100))\n",
    "\n",
    "clf,t = train_classifier(X,y,model = model)\n",
    "p,r,f = clf.eval_model(X,y)\n",
    "results.append([type(clf.model).__name__+\" 2 layers\",p,r,f,t])"
   ]
  },
  {
   "cell_type": "code",
   "execution_count": 119,
   "metadata": {},
   "outputs": [
    {
     "name": "stdout",
     "output_type": "stream",
     "text": [
      "Using customized model\n",
      "Training classifier done! Elapsed time: 0:00:01.652253\n",
      "\n",
      "\n",
      "Score evaluations using cross validation with cv = 5:\n",
      "Precision = 0.2966666666666667\n",
      "Recall = 0.45\n",
      "F-1 Score = 0.3704761904761905\n"
     ]
    }
   ],
   "source": [
    "from sklearn.ensemble import AdaBoostClassifier\n",
    "model = AdaBoostClassifier()\n",
    "\n",
    "clf,t = train_classifier(X,y,model = model)\n",
    "p,r,f = clf.eval_model(X,y)\n",
    "results.append([type(clf.model).__name__,p,r,f,t])"
   ]
  },
  {
   "cell_type": "code",
   "execution_count": 120,
   "metadata": {},
   "outputs": [
    {
     "name": "stdout",
     "output_type": "stream",
     "text": [
      "Using customized model\n",
      "Training classifier done! Elapsed time: 0:00:00.093485\n",
      "\n",
      "\n",
      "Score evaluations using cross validation with cv = 5:\n",
      "Precision = 0.8916666666666666\n",
      "Recall = 0.925\n",
      "F-1 Score = 0.8883333333333334\n"
     ]
    }
   ],
   "source": [
    "from sklearn.ensemble import AdaBoostClassifier\n",
    "from sklearn.ensemble import RandomForestClassifier\n",
    "model = AdaBoostClassifier(base_estimator=RandomForestClassifier(n_estimators=100),n_estimators=100,learning_rate=0.5)\n",
    "\n",
    "clf,t = train_classifier(X,y,model = model)\n",
    "p,r,f = clf.eval_model(X,y)\n",
    "results.append([type(clf.model).__name__+\" (RandomForest)\",p,r,f,t])"
   ]
  },
  {
   "cell_type": "code",
   "execution_count": 121,
   "metadata": {},
   "outputs": [
    {
     "name": "stdout",
     "output_type": "stream",
     "text": [
      "Using customized model\n",
      "Training classifier done! Elapsed time: 0:00:00.074481\n",
      "\n",
      "\n",
      "Score evaluations using cross validation with cv = 5:\n",
      "Precision = 0.7929166666666667\n",
      "Recall = 0.775\n",
      "F-1 Score = 0.7577380952380952\n"
     ]
    }
   ],
   "source": [
    "from sklearn.neighbors import KNeighborsClassifier\n",
    "model = KNeighborsClassifier()\n",
    "\n",
    "\n",
    "clf,t = train_classifier(X,y,model = model)\n",
    "p,r,f = clf.eval_model(X,y)\n",
    "results.append([type(clf.model).__name__,p,r,f,t])"
   ]
  },
  {
   "cell_type": "code",
   "execution_count": 122,
   "metadata": {},
   "outputs": [
    {
     "name": "stdout",
     "output_type": "stream",
     "text": [
      "Using customized model\n",
      "Training classifier done! Elapsed time: 0:00:00.004147\n",
      "\n",
      "\n",
      "Score evaluations using cross validation with cv = 5:\n",
      "Precision = 0.8791666666666667\n",
      "Recall = 0.875\n",
      "F-1 Score = 0.86\n"
     ]
    }
   ],
   "source": [
    "from sklearn.neighbors import KNeighborsClassifier\n",
    "model = KNeighborsClassifier(n_neighbors=1)\n",
    "\n",
    "\n",
    "clf,t = train_classifier(X,y,model = model)\n",
    "p,r,f = clf.eval_model(X,y)\n",
    "results.append(['Nearest Neighbor',p,r,f,t])"
   ]
  },
  {
   "cell_type": "code",
   "execution_count": 123,
   "metadata": {},
   "outputs": [
    {
     "name": "stdout",
     "output_type": "stream",
     "text": [
      "Using customized model\n",
      "Training classifier done! Elapsed time: 0:00:00.004595\n",
      "\n",
      "\n",
      "Score evaluations using cross validation with cv = 5:\n",
      "Precision = 0.41380952380952374\n",
      "Recall = 0.4375\n",
      "F-1 Score = 0.3878968253968254\n"
     ]
    }
   ],
   "source": [
    "from sklearn.discriminant_analysis import QuadraticDiscriminantAnalysis\n",
    "model = QuadraticDiscriminantAnalysis()\n",
    "\n",
    "\n",
    "clf,t = train_classifier(X,y,model = model)\n",
    "p,r,f = clf.eval_model(X,y)\n",
    "results.append([type(clf.model).__name__,p,r,f,t])"
   ]
  },
  {
   "cell_type": "code",
   "execution_count": 8,
   "metadata": {},
   "outputs": [
    {
     "name": "stdout",
     "output_type": "stream",
     "text": [
      "Using customized model\n",
      "Training classifier done! Elapsed time: 0:00:00.941955\n",
      "\n",
      "\n",
      "Score evaluations using cross validation with cv = 5:\n",
      "Precision = 0.9833333333333332\n",
      "Recall = 0.975\n",
      "F-1 Score = 0.9733333333333334\n"
     ]
    }
   ],
   "source": [
    "from sklearn.naive_bayes import GaussianNB\n",
    "from sklearn.linear_model import LogisticRegression\n",
    "from sklearn.ensemble import  VotingClassifier\n",
    "gaussian = GaussianNB()\n",
    "linear = LogisticRegression(random_state=0, solver='lbfgs',multi_class='multinomial',n_jobs=-1)\n",
    "\n",
    "model = VotingClassifier(estimators=[('gaus', gaussian), ('line', linear)],voting='soft',n_jobs=-1)\n",
    "\n",
    "\n",
    "clf,t = train_classifier(X,y,model = model)\n",
    "p,r,f = clf.eval_model(X,y)\n",
    "results.append([\"Soft \"+type(clf.model).__name__+\" (GaussianNB + LogisticRegression)\",p,r,f,t])"
   ]
  },
  {
   "cell_type": "code",
   "execution_count": 125,
   "metadata": {},
   "outputs": [
    {
     "data": {
      "text/html": [
       "<div>\n",
       "<style scoped>\n",
       "    .dataframe tbody tr th:only-of-type {\n",
       "        vertical-align: middle;\n",
       "    }\n",
       "\n",
       "    .dataframe tbody tr th {\n",
       "        vertical-align: top;\n",
       "    }\n",
       "\n",
       "    .dataframe thead th {\n",
       "        text-align: right;\n",
       "    }\n",
       "</style>\n",
       "<table border=\"1\" class=\"dataframe\">\n",
       "  <thead>\n",
       "    <tr style=\"text-align: right;\">\n",
       "      <th></th>\n",
       "      <th>Classifier</th>\n",
       "      <th>Precision</th>\n",
       "      <th>Recall</th>\n",
       "      <th>F1</th>\n",
       "      <th>Time</th>\n",
       "    </tr>\n",
       "  </thead>\n",
       "  <tbody>\n",
       "    <tr>\n",
       "      <th>0</th>\n",
       "      <td>GaussianNB</td>\n",
       "      <td>0.983333</td>\n",
       "      <td>0.9750</td>\n",
       "      <td>0.973333</td>\n",
       "      <td>00:00:00.004159</td>\n",
       "    </tr>\n",
       "    <tr>\n",
       "      <th>4</th>\n",
       "      <td>SVC linear</td>\n",
       "      <td>0.983333</td>\n",
       "      <td>0.9750</td>\n",
       "      <td>0.973333</td>\n",
       "      <td>00:00:00.006388</td>\n",
       "    </tr>\n",
       "    <tr>\n",
       "      <th>15</th>\n",
       "      <td>Soft VotingClassifier (GaussianNB + LogisticRe...</td>\n",
       "      <td>0.983333</td>\n",
       "      <td>0.9750</td>\n",
       "      <td>0.973333</td>\n",
       "      <td>00:00:00.112663</td>\n",
       "    </tr>\n",
       "    <tr>\n",
       "      <th>9</th>\n",
       "      <td>MLPClassifier 2 layers</td>\n",
       "      <td>0.966667</td>\n",
       "      <td>0.9625</td>\n",
       "      <td>0.960000</td>\n",
       "      <td>00:00:00.206763</td>\n",
       "    </tr>\n",
       "    <tr>\n",
       "      <th>8</th>\n",
       "      <td>MLPClassifier 1 layer</td>\n",
       "      <td>0.966667</td>\n",
       "      <td>0.9625</td>\n",
       "      <td>0.960000</td>\n",
       "      <td>00:00:03.552941</td>\n",
       "    </tr>\n",
       "    <tr>\n",
       "      <th>2</th>\n",
       "      <td>LogisticRegression</td>\n",
       "      <td>0.958333</td>\n",
       "      <td>0.9375</td>\n",
       "      <td>0.933333</td>\n",
       "      <td>00:00:00.039211</td>\n",
       "    </tr>\n",
       "    <tr>\n",
       "      <th>11</th>\n",
       "      <td>AdaBoostClassifier (RandomForest)</td>\n",
       "      <td>0.891667</td>\n",
       "      <td>0.9250</td>\n",
       "      <td>0.888333</td>\n",
       "      <td>00:00:00.093485</td>\n",
       "    </tr>\n",
       "    <tr>\n",
       "      <th>5</th>\n",
       "      <td>DecisionTreeClassifier</td>\n",
       "      <td>0.858333</td>\n",
       "      <td>0.8750</td>\n",
       "      <td>0.860833</td>\n",
       "      <td>00:00:00.120612</td>\n",
       "    </tr>\n",
       "    <tr>\n",
       "      <th>13</th>\n",
       "      <td>Nearest Neighbor</td>\n",
       "      <td>0.879167</td>\n",
       "      <td>0.8750</td>\n",
       "      <td>0.860000</td>\n",
       "      <td>00:00:00.004147</td>\n",
       "    </tr>\n",
       "    <tr>\n",
       "      <th>7</th>\n",
       "      <td>NearestCentroid</td>\n",
       "      <td>0.855833</td>\n",
       "      <td>0.8375</td>\n",
       "      <td>0.822619</td>\n",
       "      <td>00:00:00.043969</td>\n",
       "    </tr>\n",
       "    <tr>\n",
       "      <th>12</th>\n",
       "      <td>KNeighborsClassifier</td>\n",
       "      <td>0.792917</td>\n",
       "      <td>0.7750</td>\n",
       "      <td>0.757738</td>\n",
       "      <td>00:00:00.074481</td>\n",
       "    </tr>\n",
       "    <tr>\n",
       "      <th>3</th>\n",
       "      <td>SVC auto</td>\n",
       "      <td>0.749167</td>\n",
       "      <td>0.7750</td>\n",
       "      <td>0.731905</td>\n",
       "      <td>00:00:00.005297</td>\n",
       "    </tr>\n",
       "    <tr>\n",
       "      <th>6</th>\n",
       "      <td>RandomForestClassifier</td>\n",
       "      <td>0.737083</td>\n",
       "      <td>0.7000</td>\n",
       "      <td>0.703095</td>\n",
       "      <td>00:00:00.015814</td>\n",
       "    </tr>\n",
       "    <tr>\n",
       "      <th>1</th>\n",
       "      <td>BernoulliNB</td>\n",
       "      <td>0.664167</td>\n",
       "      <td>0.6875</td>\n",
       "      <td>0.645119</td>\n",
       "      <td>00:00:00.004965</td>\n",
       "    </tr>\n",
       "    <tr>\n",
       "      <th>14</th>\n",
       "      <td>QuadraticDiscriminantAnalysis</td>\n",
       "      <td>0.413810</td>\n",
       "      <td>0.4375</td>\n",
       "      <td>0.387897</td>\n",
       "      <td>00:00:00.004595</td>\n",
       "    </tr>\n",
       "    <tr>\n",
       "      <th>10</th>\n",
       "      <td>AdaBoostClassifier</td>\n",
       "      <td>0.296667</td>\n",
       "      <td>0.4500</td>\n",
       "      <td>0.370476</td>\n",
       "      <td>00:00:01.652253</td>\n",
       "    </tr>\n",
       "  </tbody>\n",
       "</table>\n",
       "</div>"
      ],
      "text/plain": [
       "                                           Classifier  Precision  Recall  \\\n",
       "0                                          GaussianNB   0.983333  0.9750   \n",
       "4                                          SVC linear   0.983333  0.9750   \n",
       "15  Soft VotingClassifier (GaussianNB + LogisticRe...   0.983333  0.9750   \n",
       "9                              MLPClassifier 2 layers   0.966667  0.9625   \n",
       "8                               MLPClassifier 1 layer   0.966667  0.9625   \n",
       "2                                  LogisticRegression   0.958333  0.9375   \n",
       "11                  AdaBoostClassifier (RandomForest)   0.891667  0.9250   \n",
       "5                              DecisionTreeClassifier   0.858333  0.8750   \n",
       "13                                   Nearest Neighbor   0.879167  0.8750   \n",
       "7                                     NearestCentroid   0.855833  0.8375   \n",
       "12                               KNeighborsClassifier   0.792917  0.7750   \n",
       "3                                            SVC auto   0.749167  0.7750   \n",
       "6                              RandomForestClassifier   0.737083  0.7000   \n",
       "1                                         BernoulliNB   0.664167  0.6875   \n",
       "14                      QuadraticDiscriminantAnalysis   0.413810  0.4375   \n",
       "10                                 AdaBoostClassifier   0.296667  0.4500   \n",
       "\n",
       "          F1            Time  \n",
       "0   0.973333 00:00:00.004159  \n",
       "4   0.973333 00:00:00.006388  \n",
       "15  0.973333 00:00:00.112663  \n",
       "9   0.960000 00:00:00.206763  \n",
       "8   0.960000 00:00:03.552941  \n",
       "2   0.933333 00:00:00.039211  \n",
       "11  0.888333 00:00:00.093485  \n",
       "5   0.860833 00:00:00.120612  \n",
       "13  0.860000 00:00:00.004147  \n",
       "7   0.822619 00:00:00.043969  \n",
       "12  0.757738 00:00:00.074481  \n",
       "3   0.731905 00:00:00.005297  \n",
       "6   0.703095 00:00:00.015814  \n",
       "1   0.645119 00:00:00.004965  \n",
       "14  0.387897 00:00:00.004595  \n",
       "10  0.370476 00:00:01.652253  "
      ]
     },
     "execution_count": 125,
     "metadata": {},
     "output_type": "execute_result"
    }
   ],
   "source": [
    "evaluations = pd.DataFrame(results,columns=['Classifier','Precision','Recall','F1','Time'])\n",
    "top = evaluations.sort_values(['F1','Time'],ascending=[False,True])\n",
    "top.to_csv(\"evaluations_semantic.csv\", encoding='utf-8', index=False)\n",
    "top\n",
    "# evaluations.to_csv(\"evaluations_semantic.csv\", encoding='utf-8', index=False)\n",
    "# evaluations"
   ]
  },
  {
   "cell_type": "markdown",
   "metadata": {},
   "source": [
    "\n",
    "# Evaluating the impact of the number of QPs in classification"
   ]
  },
  {
   "cell_type": "markdown",
   "metadata": {},
   "source": [
    "## Using Semantic Features"
   ]
  },
  {
   "cell_type": "code",
   "execution_count": 126,
   "metadata": {},
   "outputs": [],
   "source": [
    "results = []"
   ]
  },
  {
   "cell_type": "code",
   "execution_count": 127,
   "metadata": {},
   "outputs": [
    {
     "name": "stdout",
     "output_type": "stream",
     "text": [
      "Using semantic features True. QPs limited True\n",
      "Reached QPs limited  2\n",
      "Reached QPs limited  2\n",
      "Reached QPs limited  2\n",
      "Reached QPs limited  2\n",
      "Reached QPs limited  2\n",
      "Reached QPs limited  2\n",
      "Reached QPs limited  2\n",
      "Reached QPs limited  2\n",
      "Using customized model\n",
      "Training classifier done! Elapsed time: 0:00:00.005624\n",
      "\n",
      "\n",
      "Score evaluations using cross validation with cv = 2:\n",
      "Precision = 0.47916666666666663\n",
      "Recall = 0.625\n",
      "F-1 Score = 0.5208333333333333\n",
      "Using semantic features True. QPs limited True\n",
      "Reached QPs limited  3\n",
      "Reached QPs limited  3\n",
      "Reached QPs limited  3\n",
      "Reached QPs limited  3\n",
      "Reached QPs limited  3\n",
      "Reached QPs limited  3\n",
      "Reached QPs limited  3\n",
      "Reached QPs limited  3\n",
      "Using customized model\n",
      "Training classifier done! Elapsed time: 0:00:00.003754\n",
      "\n",
      "\n",
      "Score evaluations using cross validation with cv = 2:\n",
      "Precision = 0.71875\n",
      "Recall = 0.75\n",
      "F-1 Score = 0.7166666666666667\n",
      "Using semantic features True. QPs limited True\n",
      "Reached QPs limited  4\n",
      "Reached QPs limited  4\n",
      "Reached QPs limited  4\n",
      "Reached QPs limited  4\n",
      "Reached QPs limited  4\n",
      "Reached QPs limited  4\n",
      "Reached QPs limited  4\n",
      "Reached QPs limited  4\n",
      "Using customized model\n",
      "Training classifier done! Elapsed time: 0:00:00.004683\n",
      "\n",
      "\n",
      "Score evaluations using cross validation with cv = 3:\n",
      "Precision = 0.7083333333333334\n",
      "Recall = 0.7708333333333334\n",
      "F-1 Score = 0.725\n",
      "Using semantic features True. QPs limited True\n",
      "Reached QPs limited  5\n",
      "Reached QPs limited  5\n",
      "Reached QPs limited  5\n",
      "Reached QPs limited  5\n",
      "Reached QPs limited  5\n",
      "Reached QPs limited  5\n",
      "Reached QPs limited  5\n",
      "Reached QPs limited  5\n",
      "Using customized model\n",
      "Training classifier done! Elapsed time: 0:00:00.004819\n",
      "\n",
      "\n",
      "Score evaluations using cross validation with cv = 5:\n",
      "Precision = 0.8208333333333334\n",
      "Recall = 0.875\n",
      "F-1 Score = 0.8375\n",
      "Using semantic features True. QPs limited True\n",
      "Reached QPs limited  6\n",
      "Reached QPs limited  6\n",
      "Reached QPs limited  6\n",
      "Reached QPs limited  6\n",
      "Reached QPs limited  6\n",
      "Reached QPs limited  6\n",
      "Reached QPs limited  6\n",
      "Reached QPs limited  6\n",
      "Using customized model\n",
      "Training classifier done! Elapsed time: 0:00:00.063819\n",
      "\n",
      "\n",
      "Score evaluations using cross validation with cv = 5:\n",
      "Precision = 0.7933333333333332\n",
      "Recall = 0.8375\n",
      "F-1 Score = 0.8017857142857142\n",
      "Using semantic features True. QPs limited True\n",
      "Reached QPs limited  7\n",
      "Reached QPs limited  7\n",
      "Reached QPs limited  7\n",
      "Reached QPs limited  7\n",
      "Reached QPs limited  7\n",
      "Reached QPs limited  7\n",
      "Reached QPs limited  7\n",
      "Reached QPs limited  7\n",
      "Using customized model\n",
      "Training classifier done! Elapsed time: 0:00:00.075518\n",
      "\n",
      "\n",
      "Score evaluations using cross validation with cv = 5:\n",
      "Precision = 0.85\n",
      "Recall = 0.8875\n",
      "F-1 Score = 0.8625\n",
      "Using semantic features True. QPs limited True\n",
      "Reached QPs limited  8\n",
      "Reached QPs limited  8\n",
      "Reached QPs limited  8\n",
      "Reached QPs limited  8\n",
      "Reached QPs limited  8\n",
      "Reached QPs limited  8\n",
      "Reached QPs limited  8\n",
      "Reached QPs limited  8\n",
      "Using customized model\n",
      "Training classifier done! Elapsed time: 0:00:00.004376\n",
      "\n",
      "\n",
      "Score evaluations using cross validation with cv = 5:\n",
      "Precision = 0.9208333333333332\n",
      "Recall = 0.925\n",
      "F-1 Score = 0.915\n",
      "Using semantic features True. QPs limited True\n",
      "Reached QPs limited  9\n",
      "Reached QPs limited  9\n",
      "Reached QPs limited  9\n",
      "Reached QPs limited  9\n",
      "Reached QPs limited  9\n",
      "Reached QPs limited  9\n",
      "Reached QPs limited  9\n",
      "Reached QPs limited  9\n",
      "Using customized model\n",
      "Training classifier done! Elapsed time: 0:00:00.005202\n",
      "\n",
      "\n",
      "Score evaluations using cross validation with cv = 5:\n",
      "Precision = 0.9\n",
      "Recall = 0.9125\n",
      "F-1 Score = 0.8933333333333332\n",
      "Using semantic features True. QPs limited True\n",
      "Reached QPs limited  10\n",
      "Reached QPs limited  10\n",
      "Reached QPs limited  10\n",
      "Reached QPs limited  10\n",
      "Reached QPs limited  10\n",
      "Reached QPs limited  10\n",
      "Reached QPs limited  10\n",
      "Reached QPs limited  10\n",
      "Using customized model\n",
      "Training classifier done! Elapsed time: 0:00:00.005013\n",
      "\n",
      "\n",
      "Score evaluations using cross validation with cv = 5:\n",
      "Precision = 0.9833333333333332\n",
      "Recall = 0.975\n",
      "F-1 Score = 0.9733333333333334\n"
     ]
    }
   ],
   "source": [
    "from sklearn.naive_bayes import GaussianNB\n",
    "for number_qps in range(2,11):\n",
    "    model = GaussianNB()\n",
    "    \n",
    "    X,y = pre_process_classifier(QAI_Manager,use_semantic_features = True,number_qp_samples = number_qps)\n",
    "    clf,t = train_classifier(X,y,model = model)\n",
    "    cv=5\n",
    "    if number_qps < 5:\n",
    "        cv = max((number_qps - 1),2)\n",
    "    p,r,f = clf.eval_model(X,y,cv=cv)\n",
    "    results.append([number_qps,p,r,f,t])"
   ]
  },
  {
   "cell_type": "code",
   "execution_count": 128,
   "metadata": {},
   "outputs": [
    {
     "data": {
      "text/html": [
       "<div>\n",
       "<style scoped>\n",
       "    .dataframe tbody tr th:only-of-type {\n",
       "        vertical-align: middle;\n",
       "    }\n",
       "\n",
       "    .dataframe tbody tr th {\n",
       "        vertical-align: top;\n",
       "    }\n",
       "\n",
       "    .dataframe thead th {\n",
       "        text-align: right;\n",
       "    }\n",
       "</style>\n",
       "<table border=\"1\" class=\"dataframe\">\n",
       "  <thead>\n",
       "    <tr style=\"text-align: right;\">\n",
       "      <th></th>\n",
       "      <th>Number_QPs</th>\n",
       "      <th>Precision</th>\n",
       "      <th>Recall</th>\n",
       "      <th>F1</th>\n",
       "      <th>Time</th>\n",
       "    </tr>\n",
       "  </thead>\n",
       "  <tbody>\n",
       "    <tr>\n",
       "      <th>8</th>\n",
       "      <td>10</td>\n",
       "      <td>0.983333</td>\n",
       "      <td>0.975000</td>\n",
       "      <td>0.973333</td>\n",
       "      <td>00:00:00.005013</td>\n",
       "    </tr>\n",
       "    <tr>\n",
       "      <th>6</th>\n",
       "      <td>8</td>\n",
       "      <td>0.920833</td>\n",
       "      <td>0.925000</td>\n",
       "      <td>0.915000</td>\n",
       "      <td>00:00:00.004376</td>\n",
       "    </tr>\n",
       "    <tr>\n",
       "      <th>7</th>\n",
       "      <td>9</td>\n",
       "      <td>0.900000</td>\n",
       "      <td>0.912500</td>\n",
       "      <td>0.893333</td>\n",
       "      <td>00:00:00.005202</td>\n",
       "    </tr>\n",
       "    <tr>\n",
       "      <th>5</th>\n",
       "      <td>7</td>\n",
       "      <td>0.850000</td>\n",
       "      <td>0.887500</td>\n",
       "      <td>0.862500</td>\n",
       "      <td>00:00:00.075518</td>\n",
       "    </tr>\n",
       "    <tr>\n",
       "      <th>3</th>\n",
       "      <td>5</td>\n",
       "      <td>0.820833</td>\n",
       "      <td>0.875000</td>\n",
       "      <td>0.837500</td>\n",
       "      <td>00:00:00.004819</td>\n",
       "    </tr>\n",
       "    <tr>\n",
       "      <th>4</th>\n",
       "      <td>6</td>\n",
       "      <td>0.793333</td>\n",
       "      <td>0.837500</td>\n",
       "      <td>0.801786</td>\n",
       "      <td>00:00:00.063819</td>\n",
       "    </tr>\n",
       "    <tr>\n",
       "      <th>2</th>\n",
       "      <td>4</td>\n",
       "      <td>0.708333</td>\n",
       "      <td>0.770833</td>\n",
       "      <td>0.725000</td>\n",
       "      <td>00:00:00.004683</td>\n",
       "    </tr>\n",
       "    <tr>\n",
       "      <th>1</th>\n",
       "      <td>3</td>\n",
       "      <td>0.718750</td>\n",
       "      <td>0.750000</td>\n",
       "      <td>0.716667</td>\n",
       "      <td>00:00:00.003754</td>\n",
       "    </tr>\n",
       "    <tr>\n",
       "      <th>0</th>\n",
       "      <td>2</td>\n",
       "      <td>0.479167</td>\n",
       "      <td>0.625000</td>\n",
       "      <td>0.520833</td>\n",
       "      <td>00:00:00.005624</td>\n",
       "    </tr>\n",
       "  </tbody>\n",
       "</table>\n",
       "</div>"
      ],
      "text/plain": [
       "   Number_QPs  Precision    Recall        F1            Time\n",
       "8          10   0.983333  0.975000  0.973333 00:00:00.005013\n",
       "6           8   0.920833  0.925000  0.915000 00:00:00.004376\n",
       "7           9   0.900000  0.912500  0.893333 00:00:00.005202\n",
       "5           7   0.850000  0.887500  0.862500 00:00:00.075518\n",
       "3           5   0.820833  0.875000  0.837500 00:00:00.004819\n",
       "4           6   0.793333  0.837500  0.801786 00:00:00.063819\n",
       "2           4   0.708333  0.770833  0.725000 00:00:00.004683\n",
       "1           3   0.718750  0.750000  0.716667 00:00:00.003754\n",
       "0           2   0.479167  0.625000  0.520833 00:00:00.005624"
      ]
     },
     "execution_count": 128,
     "metadata": {},
     "output_type": "execute_result"
    }
   ],
   "source": [
    "evaluations = pd.DataFrame(results,columns=['Number_QPs','Precision','Recall','F1','Time'])\n",
    "top = evaluations.sort_values(['F1','Time'],ascending=[False,True])\n",
    "top.to_csv(\"evaluations_semantic_number_qp.csv\", encoding='utf-8', index=False)\n",
    "top"
   ]
  },
  {
   "cell_type": "code",
   "execution_count": 129,
   "metadata": {},
   "outputs": [
    {
     "data": {
      "image/png": "[encoded data removed]",
      "text/plain": [
       "<Figure size 432x288 with 1 Axes>"
      ]
     },
     "metadata": {
      "needs_background": "light"
     },
     "output_type": "display_data"
    }
   ],
   "source": [
    "fig = evaluations.plot.line(x='Number_QPs',y='F1').get_figure()\n",
    "fig.savefig(\"varing_qp.png\")"
   ]
  },
  {
   "cell_type": "code",
   "execution_count": 130,
   "metadata": {},
   "outputs": [
    {
     "data": {
      "text/plain": [
       "<matplotlib.axes._subplots.AxesSubplot at 0x7f9046c5b5c0>"
      ]
     },
     "execution_count": 130,
     "metadata": {},
     "output_type": "execute_result"
    },
    {
     "data": {
      "image/png": "[encoded data removed]",
      "text/plain": [
       "<Figure size 432x288 with 1 Axes>"
      ]
     },
     "metadata": {
      "needs_background": "light"
     },
     "output_type": "display_data"
    }
   ],
   "source": [
    "evaluations.plot.line(x='Number_QPs',y='Time')"
   ]
  },
  {
   "cell_type": "code",
   "execution_count": null,
   "metadata": {},
   "outputs": [],
   "source": []
  },
  {
   "cell_type": "markdown",
   "metadata": {},
   "source": [
    "## Without Semantic Features"
   ]
  },
  {
   "cell_type": "code",
   "execution_count": 131,
   "metadata": {},
   "outputs": [],
   "source": [
    "results = []"
   ]
  },
  {
   "cell_type": "code",
   "execution_count": 132,
   "metadata": {},
   "outputs": [
    {
     "name": "stdout",
     "output_type": "stream",
     "text": [
      "Using semantic features False. QPs limited True\n",
      "Reached QPs limited  2\n",
      "Reached QPs limited  2\n",
      "Reached QPs limited  2\n",
      "Reached QPs limited  2\n",
      "Reached QPs limited  2\n",
      "Reached QPs limited  2\n",
      "Reached QPs limited  2\n",
      "Reached QPs limited  2\n",
      "Using customized model\n",
      "Training classifier done! Elapsed time: 0:00:00.137013\n",
      "\n",
      "\n",
      "Score evaluations using cross validation with cv = 2:\n",
      "Precision = 0.38541666666666663\n",
      "Recall = 0.5\n",
      "F-1 Score = 0.5\n",
      "Using semantic features False. QPs limited True\n",
      "Reached QPs limited  3\n",
      "Reached QPs limited  3\n",
      "Reached QPs limited  3\n",
      "Reached QPs limited  3\n",
      "Reached QPs limited  3\n",
      "Reached QPs limited  3\n",
      "Reached QPs limited  3\n",
      "Reached QPs limited  3\n",
      "Using customized model\n",
      "Training classifier done! Elapsed time: 0:00:01.746361\n",
      "\n",
      "\n",
      "Score evaluations using cross validation with cv = 2:\n",
      "Precision = 0.45535714285714285\n",
      "Recall = 0.5625\n",
      "F-1 Score = 0.43660714285714286\n",
      "Using semantic features False. QPs limited True\n",
      "Reached QPs limited  4\n",
      "Reached QPs limited  4\n",
      "Reached QPs limited  4\n",
      "Reached QPs limited  4\n",
      "Reached QPs limited  4\n",
      "Reached QPs limited  4\n",
      "Reached QPs limited  4\n",
      "Reached QPs limited  4\n",
      "Using customized model\n",
      "Training classifier done! Elapsed time: 0:00:00.130458\n",
      "\n",
      "\n",
      "Score evaluations using cross validation with cv = 3:\n",
      "Precision = 0.47361111111111115\n",
      "Recall = 0.6041666666666666\n",
      "F-1 Score = 0.49107142857142855\n",
      "Using semantic features False. QPs limited True\n",
      "Reached QPs limited  5\n",
      "Reached QPs limited  5\n",
      "Reached QPs limited  5\n",
      "Reached QPs limited  5\n",
      "Reached QPs limited  5\n",
      "Reached QPs limited  5\n",
      "Reached QPs limited  5\n",
      "Reached QPs limited  5\n",
      "Using customized model\n",
      "Training classifier done! Elapsed time: 0:00:02.058356\n",
      "\n",
      "\n",
      "Score evaluations using cross validation with cv = 5:\n",
      "Precision = 0.6083333333333334\n",
      "Recall = 0.725\n",
      "F-1 Score = 0.5583333333333333\n",
      "Using semantic features False. QPs limited True\n",
      "Reached QPs limited  6\n",
      "Reached QPs limited  6\n",
      "Reached QPs limited  6\n",
      "Reached QPs limited  6\n",
      "Reached QPs limited  6\n",
      "Reached QPs limited  6\n",
      "Reached QPs limited  6\n",
      "Reached QPs limited  6\n",
      "Using customized model\n",
      "Training classifier done! Elapsed time: 0:00:02.108101\n",
      "\n",
      "\n",
      "Score evaluations using cross validation with cv = 5:\n",
      "Precision = 0.6208333333333332\n",
      "Recall = 0.8125\n",
      "F-1 Score = 0.7991666666666666\n",
      "Using semantic features False. QPs limited True\n",
      "Reached QPs limited  7\n",
      "Reached QPs limited  7\n",
      "Reached QPs limited  7\n",
      "Reached QPs limited  7\n",
      "Reached QPs limited  7\n",
      "Reached QPs limited  7\n",
      "Reached QPs limited  7\n",
      "Reached QPs limited  7\n",
      "Using customized model\n",
      "Training classifier done! Elapsed time: 0:00:00.133543\n",
      "\n",
      "\n",
      "Score evaluations using cross validation with cv = 5:\n",
      "Precision = 0.7333333333333333\n",
      "Recall = 0.8125\n",
      "F-1 Score = 0.7899999999999998\n",
      "Using semantic features False. QPs limited True\n",
      "Reached QPs limited  8\n",
      "Reached QPs limited  8\n",
      "Reached QPs limited  8\n",
      "Reached QPs limited  8\n",
      "Reached QPs limited  8\n",
      "Reached QPs limited  8\n",
      "Reached QPs limited  8\n",
      "Reached QPs limited  8\n",
      "Using customized model\n",
      "Training classifier done! Elapsed time: 0:00:00.143859\n",
      "\n",
      "\n",
      "Score evaluations using cross validation with cv = 5:\n",
      "Precision = 0.9041666666666666\n",
      "Recall = 0.8875\n",
      "F-1 Score = 0.8233333333333333\n",
      "Using semantic features False. QPs limited True\n",
      "Reached QPs limited  9\n",
      "Reached QPs limited  9\n",
      "Reached QPs limited  9\n",
      "Reached QPs limited  9\n",
      "Reached QPs limited  9\n",
      "Reached QPs limited  9\n",
      "Reached QPs limited  9\n",
      "Reached QPs limited  9\n",
      "Using customized model\n",
      "Training classifier done! Elapsed time: 0:00:00.163608\n",
      "\n",
      "\n",
      "Score evaluations using cross validation with cv = 5:\n",
      "Precision = 0.9\n",
      "Recall = 0.85\n",
      "F-1 Score = 0.8441666666666666\n",
      "Using semantic features False. QPs limited True\n",
      "Reached QPs limited  10\n",
      "Reached QPs limited  10\n",
      "Reached QPs limited  10\n",
      "Reached QPs limited  10\n",
      "Reached QPs limited  10\n",
      "Reached QPs limited  10\n",
      "Reached QPs limited  10\n",
      "Reached QPs limited  10\n",
      "Using customized model\n",
      "Training classifier done! Elapsed time: 0:00:00.147355\n",
      "\n",
      "\n",
      "Score evaluations using cross validation with cv = 5:\n",
      "Precision = 0.9374999999999998\n",
      "Recall = 0.9125\n",
      "F-1 Score = 0.9066666666666666\n"
     ]
    }
   ],
   "source": [
    "from sklearn.neural_network import MLPClassifier\n",
    "for number_qps in range(2,11):\n",
    "    model = MLPClassifier(hidden_layer_sizes=(100,100))\n",
    "    \n",
    "    X,y = pre_process_classifier(QAI_Manager,use_semantic_features = False,number_qp_samples = number_qps)\n",
    "    clf,t = train_classifier(X,y,model = model)\n",
    "    cv=5\n",
    "    if number_qps < 5:\n",
    "        cv = max((number_qps - 1),2)\n",
    "    p,r,f = clf.eval_model(X,y,cv=cv)\n",
    "    results.append([number_qps,p,r,f,t])"
   ]
  },
  {
   "cell_type": "code",
   "execution_count": 133,
   "metadata": {},
   "outputs": [
    {
     "data": {
      "text/html": [
       "<div>\n",
       "<style scoped>\n",
       "    .dataframe tbody tr th:only-of-type {\n",
       "        vertical-align: middle;\n",
       "    }\n",
       "\n",
       "    .dataframe tbody tr th {\n",
       "        vertical-align: top;\n",
       "    }\n",
       "\n",
       "    .dataframe thead th {\n",
       "        text-align: right;\n",
       "    }\n",
       "</style>\n",
       "<table border=\"1\" class=\"dataframe\">\n",
       "  <thead>\n",
       "    <tr style=\"text-align: right;\">\n",
       "      <th></th>\n",
       "      <th>Number_QPs</th>\n",
       "      <th>Precision</th>\n",
       "      <th>Recall</th>\n",
       "      <th>F1</th>\n",
       "      <th>Time</th>\n",
       "    </tr>\n",
       "  </thead>\n",
       "  <tbody>\n",
       "    <tr>\n",
       "      <th>8</th>\n",
       "      <td>10</td>\n",
       "      <td>0.937500</td>\n",
       "      <td>0.912500</td>\n",
       "      <td>0.906667</td>\n",
       "      <td>00:00:00.147355</td>\n",
       "    </tr>\n",
       "    <tr>\n",
       "      <th>7</th>\n",
       "      <td>9</td>\n",
       "      <td>0.900000</td>\n",
       "      <td>0.850000</td>\n",
       "      <td>0.844167</td>\n",
       "      <td>00:00:00.163608</td>\n",
       "    </tr>\n",
       "    <tr>\n",
       "      <th>6</th>\n",
       "      <td>8</td>\n",
       "      <td>0.904167</td>\n",
       "      <td>0.887500</td>\n",
       "      <td>0.823333</td>\n",
       "      <td>00:00:00.143859</td>\n",
       "    </tr>\n",
       "    <tr>\n",
       "      <th>4</th>\n",
       "      <td>6</td>\n",
       "      <td>0.620833</td>\n",
       "      <td>0.812500</td>\n",
       "      <td>0.799167</td>\n",
       "      <td>00:00:02.108101</td>\n",
       "    </tr>\n",
       "    <tr>\n",
       "      <th>5</th>\n",
       "      <td>7</td>\n",
       "      <td>0.733333</td>\n",
       "      <td>0.812500</td>\n",
       "      <td>0.790000</td>\n",
       "      <td>00:00:00.133543</td>\n",
       "    </tr>\n",
       "    <tr>\n",
       "      <th>3</th>\n",
       "      <td>5</td>\n",
       "      <td>0.608333</td>\n",
       "      <td>0.725000</td>\n",
       "      <td>0.558333</td>\n",
       "      <td>00:00:02.058356</td>\n",
       "    </tr>\n",
       "    <tr>\n",
       "      <th>0</th>\n",
       "      <td>2</td>\n",
       "      <td>0.385417</td>\n",
       "      <td>0.500000</td>\n",
       "      <td>0.500000</td>\n",
       "      <td>00:00:00.137013</td>\n",
       "    </tr>\n",
       "    <tr>\n",
       "      <th>2</th>\n",
       "      <td>4</td>\n",
       "      <td>0.473611</td>\n",
       "      <td>0.604167</td>\n",
       "      <td>0.491071</td>\n",
       "      <td>00:00:00.130458</td>\n",
       "    </tr>\n",
       "    <tr>\n",
       "      <th>1</th>\n",
       "      <td>3</td>\n",
       "      <td>0.455357</td>\n",
       "      <td>0.562500</td>\n",
       "      <td>0.436607</td>\n",
       "      <td>00:00:01.746361</td>\n",
       "    </tr>\n",
       "  </tbody>\n",
       "</table>\n",
       "</div>"
      ],
      "text/plain": [
       "   Number_QPs  Precision    Recall        F1            Time\n",
       "8          10   0.937500  0.912500  0.906667 00:00:00.147355\n",
       "7           9   0.900000  0.850000  0.844167 00:00:00.163608\n",
       "6           8   0.904167  0.887500  0.823333 00:00:00.143859\n",
       "4           6   0.620833  0.812500  0.799167 00:00:02.108101\n",
       "5           7   0.733333  0.812500  0.790000 00:00:00.133543\n",
       "3           5   0.608333  0.725000  0.558333 00:00:02.058356\n",
       "0           2   0.385417  0.500000  0.500000 00:00:00.137013\n",
       "2           4   0.473611  0.604167  0.491071 00:00:00.130458\n",
       "1           3   0.455357  0.562500  0.436607 00:00:01.746361"
      ]
     },
     "execution_count": 133,
     "metadata": {},
     "output_type": "execute_result"
    }
   ],
   "source": [
    "evaluations = pd.DataFrame(results,columns=['Number_QPs','Precision','Recall','F1','Time'])\n",
    "top = evaluations.sort_values(['F1','Time'],ascending=[False,True])\n",
    "top.to_csv(\"evaluations_syntatic_number_qp.csv\", encoding='utf-8', index=False)\n",
    "top"
   ]
  },
  {
   "cell_type": "code",
   "execution_count": 134,
   "metadata": {},
   "outputs": [
    {
     "data": {
      "text/plain": [
       "<matplotlib.axes._subplots.AxesSubplot at 0x7f904fd579e8>"
      ]
     },
     "execution_count": 134,
     "metadata": {},
     "output_type": "execute_result"
    },
    {
     "data": {
      "image/png": "[encoded data removed]",
      "text/plain": [
       "<Figure size 432x288 with 1 Axes>"
      ]
     },
     "metadata": {
      "needs_background": "light"
     },
     "output_type": "display_data"
    }
   ],
   "source": [
    "evaluations.plot.line(x='Number_QPs',y='F1')"
   ]
  },
  {
   "cell_type": "code",
   "execution_count": 135,
   "metadata": {},
   "outputs": [
    {
     "data": {
      "text/plain": [
       "<matplotlib.axes._subplots.AxesSubplot at 0x7f904428c8d0>"
      ]
     },
     "execution_count": 135,
     "metadata": {},
     "output_type": "execute_result"
    },
    {
     "data": {
      "image/png": "[encoded data removed]",
      "text/plain": [
       "<Figure size 432x288 with 1 Axes>"
      ]
     },
     "metadata": {
      "needs_background": "light"
     },
     "output_type": "display_data"
    }
   ],
   "source": [
    "evaluations.plot.line(x='Number_QPs',y='Time')"
   ]
  },
  {
   "cell_type": "markdown",
   "metadata": {},
   "source": [
    "# Test Model"
   ]
  },
  {
   "cell_type": "code",
   "execution_count": 23,
   "metadata": {},
   "outputs": [
    {
     "name": "stdout",
     "output_type": "stream",
     "text": [
      "Creating train dataset\n",
      "Created train dataset\n",
      "Using semantic features True. QPs limited False\n"
     ]
    }
   ],
   "source": [
    "#Create Train dataset\n",
    "QAIs_path = \"input/medibot/MediBot.json\"\n",
    "QAI_Manager = train_QAIs()\n",
    "X,y = pre_process_classifier(QAI_Manager,use_semantic_features = True,number_qp_samples = 0)\n",
    "\n",
    "QPs_training = []\n",
    "for QAI in QAI_Manager.QAIs:\n",
    "    for QP in QAI.QPs:\n",
    "        QPs_training.append([QP,QAI.id])    \n",
    "QPs_training = pd.DataFrame(QPs_training,columns=[\"pattern\",\"class\"])"
   ]
  },
  {
   "cell_type": "code",
   "execution_count": 24,
   "metadata": {},
   "outputs": [
    {
     "name": "stdout",
     "output_type": "stream",
     "text": [
      "Creating train dataset\n",
      "Created train dataset\n",
      "Using semantic features True. QPs limited False\n"
     ]
    }
   ],
   "source": [
    "#Create Test dataset\n",
    "QAIs_path = \"input/medibot/MediBot_Test_dataSet.json\"\n",
    "QAI_Manager = train_QAIs()\n",
    "X_test,y_test = pre_process_classifier(QAI_Manager,use_semantic_features = True,number_qp_samples = 0)\n",
    "\n",
    "\n",
    "QPs_test = []\n",
    "for QAI in QAI_Manager.QAIs:\n",
    "    for QP in QAI.QPs:\n",
    "        QPs_test.append([QP,QAI.id])  \n",
    "QPs_test = pd.DataFrame(QPs_test,columns=[\"pattern\",\"class\"])"
   ]
  },
  {
   "cell_type": "code",
   "execution_count": 25,
   "metadata": {},
   "outputs": [
    {
     "name": "stdout",
     "output_type": "stream",
     "text": [
      "Training:\n",
      "                                              pattern  class\n",
      "0   quais medicamentos possuem o princípio ativo $...      0\n",
      "1   o $qai_0_principioAtivo1 é o princípio ativo d...      0\n",
      "2   indique medicamentos com a substancia $qai_0_p...      0\n",
      "3    retorne remédio a base de $qai_0_principioAtivo1      0\n",
      "4   quero saber o medicamentos com $qai_0_principi...      0\n",
      "5   Quais medicamentos possuem a substância $qai_0...      0\n",
      "6   retorne os medicamentos com princípios ativos ...      0\n",
      "7   Busque os mdedicamentos com o $qai_0_principio...      0\n",
      "8   Quais medicamentos possuem a substancia $qai_0...      0\n",
      "9   Rertorne medicamentos que contenham a substanc...      0\n",
      "10         quero saber a definção de $qai_1_termo_in2      1\n",
      "11                   O que significa $qai_1_termo_in2      1\n",
      "12                            defina $qai_1_termo_in2      1\n",
      "13                        fale sobre $qai_1_termo_in2      1\n",
      "14                me diga o que é um $qai_1_termo_in2      1\n",
      "15                  explique o que é $qai_1_termo_in2      1\n",
      "16                        o que é um $qai_1_termo_in2      1\n",
      "17             qual é a definição de $qai_1_termo_in2      1\n",
      "18       você poderia me falar sobre $qai_1_termo_in2      1\n",
      "19             busque a definição de $qai_1_termo_in2      1\n",
      "20     Fale sobre o medicamento $qai_2_medicamento_in      2\n",
      "21  O que você sabe sobre o remédio $qai_2_medicam...      2\n",
      "22  Pesquise informações sobre o medicamento $qai_...      2\n",
      "23  Quais dados você sabe sobre o remédio $qai_2_m...      2\n",
      "24  você poderia me falar sobre o medicameno $qai_...      2\n",
      "25  O que você sabe sobre o remédio $qai_2_medicam...      2\n",
      "26  Pesquise informações sobre o medicamento $qai_...      2\n",
      "27  Me informe sobre o medicamento $qai_2_medicame...      2\n",
      "28  Quais dados você sabe sobre o remédio $qai_2_m...      2\n",
      "29  você poderia me falar sobre o medicameno $qai_...      2\n",
      "..                                                ...    ...\n",
      "50  Retorne as informações sobre o medicamento com...      5\n",
      "51  Fale sobre a apresentação com o código de barr...      5\n",
      "52  O que você sobre sobre o medicamento de código...      5\n",
      "53  Fale sobre a apresentação com o ean $qai_5_ean_in      5\n",
      "54  Você pode me dar informações sobre a apresenta...      5\n",
      "55  Retorne as informações sobre o medicamento de ...      5\n",
      "56  Fale sobre a apresentação com o ean $qai_5_ean_in      5\n",
      "57  O que você sobre sobre o medicamento de ean $q...      5\n",
      "58  Você pode me dar informações sobre a apresenta...      5\n",
      "59  Busque uma apresentação pelo código de barras ...      5\n",
      "60  Fale sobre a apresentação com o código de barr...      6\n",
      "61  O que você sobre sobre o medicamento de código...      6\n",
      "62  Me dê informações sobre o código $qai_6_ean_in...      6\n",
      "63  Retorne as informações sobre o medicamento de ...      6\n",
      "64  Fale sobre a apresentação com o ean $qai_6_ean...      6\n",
      "65  Retorne as informações sobre o medicamento de ...      6\n",
      "66  Fale sobre a apresentação com o ean $qai_6_ean...      6\n",
      "67  O que você sobre sobre o medicamento de ean $q...      6\n",
      "68  Você pode me dar informações sobre a apresenta...      6\n",
      "69  Busque uma apresentação pelo código de barras ...      6\n",
      "70             quanto custa um $qai_7_medicamento_in?      7\n",
      "71             Qual o preço do $qai_7_medicamento_in?      7\n",
      "72  Me diga os preços das apresentações do medicam...      7\n",
      "73  Quais os preços das apresentações do $qai_7_me...      7\n",
      "74  Você poderia me informar os preços máximos do ...      7\n",
      "75             Quanto custa um $qai_7_medicamento_in?      7\n",
      "76     Me informe o valor de um $qai_7_medicamento_in      7\n",
      "77  Quais os preços máximos para as apresentações ...      7\n",
      "78  quais os preços das apresentações do $qai_7_me...      7\n",
      "79         Diga os preços de um $qai_7_medicamento_in      7\n",
      "\n",
      "[80 rows x 2 columns]\n",
      "(80, 107)\n",
      "Teste:\n",
      "\n",
      "                                              pattern  class\n",
      "0   quais outro medicamentos possuem o mesmo princ...      0\n",
      "1   me diga os medicamentos que compartilham o pri...      0\n",
      "2   quais são as possívei alternativas ao $qai_0_p...      0\n",
      "3   cite os remédios com a mesma substância do $qa...      0\n",
      "4   o $qai_0_principioAtivo1 tem o mesmo princípio...      0\n",
      "5                        o que é um $qai_1_termo_in2?      1\n",
      "6                        descreva um $qai_1_termo_in2      1\n",
      "7    gostaria de saber mais sobre um $qai_1_termo_in2      1\n",
      "8                 fale sobre o termo $qai_1_termo_in2      1\n",
      "9                explique o ceiceito $qai_1_termo_in2      1\n",
      "10  dê informações sobre o medicamento $qai_2_medi...      2\n",
      "11     o que você sabe sobre o $qai_2_medicamento_in?      2\n",
      "12  quero saber informações sobre o remédio $qai_2...      2\n",
      "13     fale sobre o medicamento $qai_2_medicamento_in      2\n",
      "14           informe-me sobre o $qai_2_medicamento_in      2\n",
      "15       quais riscos o $qai_3_medicamento_in possui?      3\n",
      "16  posso ter problemas ao tomar o $qai_3_medicame...      3\n",
      "17  o medicamento $qai_3_medicamento_in possui con...      3\n",
      "18            é seguro tomar o $qai_3_medicamento_in?      3\n",
      "19      quais são os riscos do $qai_3_medicamento_in?      3\n",
      "20  quais são as apresentações do medicamento $qai...      4\n",
      "21  em quais apresentações o $qai_4_medicamento_in...      4\n",
      "22  em quais formatos o $qai_4_medicamento_in está...      4\n",
      "23  quais são as diferetes apresentações do $qai_4...      4\n",
      "24  quais são as variações do remédio $qai_4_medic...      4\n",
      "25  fale sobre o medicamento com o código de barra...      5\n",
      "26  quero informações sobre o remédio com o código...      5\n",
      "27  o que você sabe sobre o código de barras $qai_...      5\n",
      "28        o que é o produto com código $qai_5_ean_in?      5\n",
      "29    explique o medicamento com código $qai_5_ean_in      5\n",
      "30  qual o preço máximo para o produto de código $...      6\n",
      "31  qual o maior preço permitido para o remédio co...      6\n",
      "32  qual é maior valor que o medicamento de código...      6\n",
      "33  gostaria de saber o custo máximo permitido par...      6\n",
      "34  quanto é o máximo que devo paragar o remédio c...      6\n",
      "35  quais o preços das apresentações do $qai_7_med...      7\n",
      "36  quanto custa cada apresentação do medicamento ...      7\n",
      "37  quanto eu pagaria em cada apresentação do remé...      7\n",
      "38  diga os preços das apresentações do $qai_7_med...      7\n",
      "39  por quanto sai cada apresentação do $qai_7_med...      7\n",
      "(40, 107)\n"
     ]
    }
   ],
   "source": [
    "#show datasets\n",
    "print(\"Training:\")\n",
    "print(QPs_training)\n",
    "print(X.shape)\n",
    "\n",
    "print(\"Teste:\\n\")\n",
    "print(QPs_test)\n",
    "print(X_test.shape)"
   ]
  },
  {
   "cell_type": "code",
   "execution_count": 26,
   "metadata": {},
   "outputs": [
    {
     "name": "stdout",
     "output_type": "stream",
     "text": [
      "Using customized model\n",
      "Training classifier done! Elapsed time: 0:00:00.913596\n"
     ]
    }
   ],
   "source": [
    "#train_model\n",
    "from sklearn.naive_bayes import GaussianNB\n",
    "model = GaussianNB()\n",
    "\n",
    "model = VotingClassifier(estimators=[('gaus', gaussian), ('line', linear)],voting='soft',n_jobs=-1)\n",
    "\n",
    "clf,t = train_classifier(X,y,model = model)\n"
   ]
  },
  {
   "cell_type": "code",
   "execution_count": 27,
   "metadata": {},
   "outputs": [
    {
     "name": "stdout",
     "output_type": "stream",
     "text": [
      "true:\n",
      " [3, 3, 3, 5, 0, 2, 7, 5, 7, 1, 5, 1, 2, 6, 6, 1, 3, 4, 0, 6, 1, 2, 0, 5, 4, 0, 6, 7, 0, 7, 4, 6, 2, 4, 3, 4, 1, 2, 5, 7]\n",
      "predicted:\n",
      " [3 3 3 5 0 2 7 5 7 1 5 1 2 6 6 1 3 4 0 6 1 2 0 5 4 0 6 7 0 7 4 6 2 3 3 4 1\n",
      " 2 5 7]\n"
     ]
    }
   ],
   "source": [
    "#Predict labels\n",
    "y_predicted = clf.predict(X_test)\n",
    "print(\"true:\\n\",y_test.to_list())\n",
    "print(\"predicted:\\n\",y_predicted)"
   ]
  },
  {
   "cell_type": "code",
   "execution_count": 28,
   "metadata": {},
   "outputs": [
    {
     "data": {
      "text/html": [
       "<div>\n",
       "<style scoped>\n",
       "    .dataframe tbody tr th:only-of-type {\n",
       "        vertical-align: middle;\n",
       "    }\n",
       "\n",
       "    .dataframe tbody tr th {\n",
       "        vertical-align: top;\n",
       "    }\n",
       "\n",
       "    .dataframe thead th {\n",
       "        text-align: right;\n",
       "    }\n",
       "</style>\n",
       "<table border=\"1\" class=\"dataframe\">\n",
       "  <thead>\n",
       "    <tr style=\"text-align: right;\">\n",
       "      <th></th>\n",
       "      <th>Precision</th>\n",
       "      <th>Recall</th>\n",
       "      <th>F1</th>\n",
       "    </tr>\n",
       "  </thead>\n",
       "  <tbody>\n",
       "    <tr>\n",
       "      <th>0</th>\n",
       "      <td>0.979167</td>\n",
       "      <td>0.975</td>\n",
       "      <td>0.974747</td>\n",
       "    </tr>\n",
       "  </tbody>\n",
       "</table>\n",
       "</div>"
      ],
      "text/plain": [
       "   Precision  Recall        F1\n",
       "0   0.979167   0.975  0.974747"
      ]
     },
     "execution_count": 28,
     "metadata": {},
     "output_type": "execute_result"
    }
   ],
   "source": [
    "#Testing model\n",
    "from sklearn.metrics import precision_score\n",
    "from sklearn.metrics import recall_score\n",
    "from sklearn.metrics import f1_score\n",
    "\n",
    "results = [(precision_score(y_test, y_predicted, average='weighted'), recall_score(y_test, y_predicted, average='weighted'),f1_score(y_test, y_predicted, average='weighted'))]\n",
    "scores = pd.DataFrame(results,columns=['Precision','Recall','F1'])\n",
    "scores\n"
   ]
  },
  {
   "cell_type": "code",
   "execution_count": 30,
   "metadata": {},
   "outputs": [
    {
     "name": "stdout",
     "output_type": "stream",
     "text": [
      "Training examples saved to:  training_examples.csv\n",
      "Test examples saved to:  test_examples.csv\n",
      "Test's results saved to:  result_test.csv\n"
     ]
    }
   ],
   "source": [
    "#Save results\n",
    "training_path = \"training_examples.csv\"\n",
    "QPs_training.to_csv(training_path, encoding='utf-8',index=False)\n",
    "print(\"Training examples saved to: \",training_path)\n",
    "\n",
    "test_path = \"test_examples.csv\"\n",
    "QPs_test.to_csv(test_path, encoding='utf-8',index=False)\n",
    "print(\"Test examples saved to: \",test_path)\n",
    "\n",
    "result_path = \"result_test.csv\"\n",
    "scores.to_csv(result_path, encoding='utf-8',index=False)\n",
    "print(\"Test's results saved to: \",result_path)\n",
    "\n"
   ]
  },
  {
   "cell_type": "code",
   "execution_count": null,
   "metadata": {},
   "outputs": [],
   "source": []
  }
 ],
 "metadata": {
  "kernelspec": {
   "display_name": "Python 3",
   "language": "python",
   "name": "python3"
  },
  "language_info": {
   "codemirror_mode": {
    "name": "ipython",
    "version": 3
   },
   "file_extension": ".py",
   "mimetype": "text/x-python",
   "name": "python",
   "nbconvert_exporter": "python",
   "pygments_lexer": "ipython3",
   "version": "3.7.3"
  }
 },
 "nbformat": 4,
 "nbformat_minor": 2
}
