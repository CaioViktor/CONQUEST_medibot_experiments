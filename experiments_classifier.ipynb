{
 "cells": [
  {
   "cell_type": "code",
   "execution_count": 1,
   "metadata": {},
   "outputs": [],
   "source": [
    "def warn(*args, **kwargs):\n",
    "    pass\n",
    "import warnings\n",
    "warnings.warn = warn\n",
    "from pathlib import Path\n",
    "import ontology.Schema as sc\n",
    "import qai.QAI_Manager as q\n",
    "import pickle\n",
    "import os\n",
    "from nlp.NLP_Processor import NLP_Processor\n",
    "from classifier.ML_Classifier import ML_Classifier\n",
    "from nlp.NER_Trainer import NER_Trainer \n",
    "from datetime import datetime\n",
    "import spacy\n",
    "import nlp.Solr_Connection as solr_connection\n",
    "import pandas as pd\n",
    "\n",
    "from config import *  #Change configurations in file \"config.py\"\n",
    "\n",
    "\n",
    "%matplotlib inline\n"
   ]
  },
  {
   "cell_type": "code",
   "execution_count": 2,
   "metadata": {},
   "outputs": [],
   "source": [
    "def train_QAIs():  \n",
    "    schema = sc.getGraph(ontology_path)\n",
    "    classes_index = sc.load_classes_index(schema)\n",
    "    properties_index = sc.load_properties_index(schema)\n",
    "    schema.close()\n",
    "    QAI_Manager = q.QAI_Manager(QAIs_path,properties_index)\n",
    "    ner_trainer = NER_Trainer(QAI_Manager.QAIs,classes_index,sparql_endpoint,graph_name,solr_host,solr_port,solr_core)\n",
    "    ner_trainer.make_train_dataset(savePath=path_train_NER_temp)\n",
    "    return QAI_Manager"
   ]
  },
  {
   "cell_type": "code",
   "execution_count": 3,
   "metadata": {},
   "outputs": [],
   "source": [
    "def pre_process_classifier(QAI_Manager,use_semantic_features = True,number_qp_samples = 0):\n",
    "    labels_path = os.path.join(path_train_NER_temp,\"labels.sav\")\n",
    "    with open(labels_path,\"rb\") as file:\n",
    "        labels_NER = pickle.load(file)\n",
    "    nlp_processor = NLP_Processor(labels_NER,nlp_model_load,startup_solr=False)\n",
    "    QAI_Manager.compute_SVs(nlp_processor)\n",
    "    X,y = ML_Classifier.pre_process_data(QAI_Manager.QAIs,nlp_processor,use_semantic_features,number_qp_samples)\n",
    "    return X,y\n"
   ]
  },
  {
   "cell_type": "code",
   "execution_count": 4,
   "metadata": {},
   "outputs": [],
   "source": [
    "def train_classifier(X,y,model = None):\n",
    "    classifier = ML_Classifier(model_path=\"persistence/classifier\",model_file=\"ml_classifier.sav\",model = model)\n",
    "    time = classifier.fit(X,y)\n",
    "    return classifier,time"
   ]
  },
  {
   "cell_type": "markdown",
   "metadata": {},
   "source": [
    "# Experiments without Semantic Features (Only Syntatic Features)"
   ]
  },
  {
   "cell_type": "code",
   "execution_count": 5,
   "metadata": {},
   "outputs": [
    {
     "name": "stdout",
     "output_type": "stream",
     "text": [
      "Creating train dataset\n",
      "Created train dataset\n",
      "Using semantic features False. QPs limited False\n"
     ]
    }
   ],
   "source": [
    "QAIs_path = \"input/medibot/MediBot.json\"\n",
    "QAI_Manager = train_QAIs()\n",
    "X,y = pre_process_classifier(QAI_Manager,use_semantic_features = False,number_qp_samples = 0)\n"
   ]
  },
  {
   "cell_type": "code",
   "execution_count": 6,
   "metadata": {},
   "outputs": [],
   "source": [
    "results = []"
   ]
  },
  {
   "cell_type": "code",
   "execution_count": 7,
   "metadata": {},
   "outputs": [
    {
     "name": "stdout",
     "output_type": "stream",
     "text": [
      "Using customized model\n",
      "Training classifier done! Elapsed time: 0:00:00.021782\n",
      "\n",
      "\n",
      "Score evaluations using cross validation with cv = 5:\n",
      "Precision = 0.7725\n",
      "Recall = 0.7125\n",
      "F-1 Score = 0.705952380952381\n"
     ]
    }
   ],
   "source": [
    "from sklearn.naive_bayes import GaussianNB\n",
    "model = GaussianNB()\n",
    "\n",
    "clf,t = train_classifier(X,y,model = model)\n",
    "p,r,f = clf.eval_model(X,y)\n",
    "results.append([type(clf.model).__name__,p,r,f,t])"
   ]
  },
  {
   "cell_type": "code",
   "execution_count": 8,
   "metadata": {},
   "outputs": [
    {
     "name": "stdout",
     "output_type": "stream",
     "text": [
      "Using customized model\n",
      "Training classifier done! Elapsed time: 0:00:00.180394\n",
      "\n",
      "\n",
      "Score evaluations using cross validation with cv = 5:\n",
      "Precision = 0.6066666666666667\n",
      "Recall = 0.6\n",
      "F-1 Score = 0.5654761904761905\n"
     ]
    }
   ],
   "source": [
    "from sklearn.naive_bayes import BernoulliNB\n",
    "model = BernoulliNB()\n",
    "\n",
    "clf,t = train_classifier(X,y,model = model)\n",
    "p,r,f = clf.eval_model(X,y)\n",
    "results.append([type(clf.model).__name__,p,r,f,t])"
   ]
  },
  {
   "cell_type": "code",
   "execution_count": 9,
   "metadata": {},
   "outputs": [
    {
     "name": "stdout",
     "output_type": "stream",
     "text": [
      "Using customized model\n",
      "Training classifier done! Elapsed time: 0:00:01.047190\n",
      "\n",
      "\n",
      "Score evaluations using cross validation with cv = 5:\n",
      "Precision = 0.8\n",
      "Recall = 0.7875\n",
      "F-1 Score = 0.7641666666666668\n"
     ]
    }
   ],
   "source": [
    "from sklearn.linear_model import LogisticRegression\n",
    "model = LogisticRegression(random_state=0, solver='lbfgs',multi_class='multinomial',n_jobs=-1)\n",
    "\n",
    "clf,t = train_classifier(X,y,model = model)\n",
    "p,r,f = clf.eval_model(X,y)\n",
    "results.append([type(clf.model).__name__,p,r,f,t])"
   ]
  },
  {
   "cell_type": "code",
   "execution_count": 10,
   "metadata": {},
   "outputs": [
    {
     "name": "stdout",
     "output_type": "stream",
     "text": [
      "Using customized model\n",
      "Training classifier done! Elapsed time: 0:00:00.012123\n",
      "\n",
      "\n",
      "Score evaluations using cross validation with cv = 5:\n",
      "Precision = 0.5391666666666666\n",
      "Recall = 0.575\n",
      "F-1 Score = 0.5201190476190476\n"
     ]
    }
   ],
   "source": [
    "from sklearn.svm import SVC\n",
    "model = SVC(gamma='auto')\n",
    "\n",
    "clf,t = train_classifier(X,y,model = model)\n",
    "p,r,f = clf.eval_model(X,y)\n",
    "results.append([type(clf.model).__name__+\" auto\",p,r,f,t])"
   ]
  },
  {
   "cell_type": "code",
   "execution_count": 11,
   "metadata": {},
   "outputs": [
    {
     "name": "stdout",
     "output_type": "stream",
     "text": [
      "Using customized model\n",
      "Training classifier done! Elapsed time: 0:00:00.010613\n",
      "\n",
      "\n",
      "Score evaluations using cross validation with cv = 5:\n",
      "Precision = 0.9166666666666666\n",
      "Recall = 0.875\n",
      "F-1 Score = 0.8700000000000001\n"
     ]
    }
   ],
   "source": [
    "from sklearn.svm import SVC\n",
    "model = SVC(C=1, kernel=\"linear\")\n",
    "\n",
    "\n",
    "clf,t = train_classifier(X,y,model = model)\n",
    "p,r,f = clf.eval_model(X,y)\n",
    "results.append([type(clf.model).__name__+\" linear\",p,r,f,t])"
   ]
  },
  {
   "cell_type": "code",
   "execution_count": 12,
   "metadata": {},
   "outputs": [
    {
     "name": "stdout",
     "output_type": "stream",
     "text": [
      "Using customized model\n",
      "Training classifier done! Elapsed time: 0:00:00.014697\n",
      "\n",
      "\n",
      "Score evaluations using cross validation with cv = 5:\n",
      "Precision = 0.5458333333333333\n",
      "Recall = 0.575\n",
      "F-1 Score = 0.5341666666666666\n"
     ]
    }
   ],
   "source": [
    "from sklearn.tree import DecisionTreeClassifier\n",
    "model = DecisionTreeClassifier(random_state=0)\n",
    "\n",
    "clf,t = train_classifier(X,y,model = model)\n",
    "p,r,f = clf.eval_model(X,y)\n",
    "results.append([type(clf.model).__name__,p,r,f,t])"
   ]
  },
  {
   "cell_type": "code",
   "execution_count": 13,
   "metadata": {},
   "outputs": [
    {
     "name": "stdout",
     "output_type": "stream",
     "text": [
      "Using customized model\n",
      "Training classifier done! Elapsed time: 0:00:00.025650\n",
      "\n",
      "\n",
      "Score evaluations using cross validation with cv = 5:\n",
      "Precision = 0.6791666666666666\n",
      "Recall = 0.6\n",
      "F-1 Score = 0.633452380952381\n"
     ]
    }
   ],
   "source": [
    "from sklearn.ensemble import RandomForestClassifier\n",
    "model = RandomForestClassifier()\n",
    "\n",
    "clf,t = train_classifier(X,y,model = model)\n",
    "p,r,f = clf.eval_model(X,y)\n",
    "results.append([type(clf.model).__name__,p,r,f,t])"
   ]
  },
  {
   "cell_type": "code",
   "execution_count": 14,
   "metadata": {},
   "outputs": [
    {
     "name": "stdout",
     "output_type": "stream",
     "text": [
      "Using customized model\n",
      "Training classifier done! Elapsed time: 0:00:00.009076\n",
      "\n",
      "\n",
      "Score evaluations using cross validation with cv = 5:\n",
      "Precision = 0.63125\n",
      "Recall = 0.625\n",
      "F-1 Score = 0.5916666666666666\n"
     ]
    }
   ],
   "source": [
    "from sklearn.neighbors.nearest_centroid import NearestCentroid\n",
    "model = NearestCentroid()\n",
    "\n",
    "clf,t = train_classifier(X,y,model = model)\n",
    "p,r,f = clf.eval_model(X,y)\n",
    "results.append([type(clf.model).__name__,p,r,f,t])"
   ]
  },
  {
   "cell_type": "code",
   "execution_count": 15,
   "metadata": {},
   "outputs": [
    {
     "name": "stdout",
     "output_type": "stream",
     "text": [
      "Using customized model\n",
      "Training classifier done! Elapsed time: 0:00:00.251051\n",
      "\n",
      "\n",
      "Score evaluations using cross validation with cv = 5:\n",
      "Precision = 0.9083333333333332\n",
      "Recall = 0.9125\n",
      "F-1 Score = 0.8683333333333334\n"
     ]
    }
   ],
   "source": [
    "from sklearn.neural_network import MLPClassifier\n",
    "model = MLPClassifier()\n",
    "\n",
    "clf,t = train_classifier(X,y,model = model)\n",
    "p,r,f = clf.eval_model(X,y)\n",
    "results.append([type(clf.model).__name__+\" 1 layer\",p,r,f,t])"
   ]
  },
  {
   "cell_type": "code",
   "execution_count": 16,
   "metadata": {},
   "outputs": [
    {
     "name": "stdout",
     "output_type": "stream",
     "text": [
      "Using customized model\n",
      "Training classifier done! Elapsed time: 0:00:00.178727\n",
      "\n",
      "\n",
      "Score evaluations using cross validation with cv = 5:\n",
      "Precision = 0.9416666666666667\n",
      "Recall = 0.9125\n",
      "F-1 Score = 0.9199999999999999\n"
     ]
    }
   ],
   "source": [
    "from sklearn.neural_network import MLPClassifier\n",
    "model = MLPClassifier(hidden_layer_sizes=(100,100))\n",
    "\n",
    "clf,t = train_classifier(X,y,model = model)\n",
    "p,r,f = clf.eval_model(X,y)\n",
    "results.append([type(clf.model).__name__+\" 2 layers\",p,r,f,t])"
   ]
  },
  {
   "cell_type": "code",
   "execution_count": 17,
   "metadata": {},
   "outputs": [
    {
     "name": "stdout",
     "output_type": "stream",
     "text": [
      "Using customized model\n",
      "Training classifier done! Elapsed time: 0:00:00.090363\n",
      "\n",
      "\n",
      "Score evaluations using cross validation with cv = 5:\n",
      "Precision = 0.17083333333333334\n",
      "Recall = 0.275\n",
      "F-1 Score = 0.19143790849673203\n"
     ]
    }
   ],
   "source": [
    "from sklearn.ensemble import AdaBoostClassifier\n",
    "model = AdaBoostClassifier()\n",
    "\n",
    "clf,t = train_classifier(X,y,model = model)\n",
    "p,r,f = clf.eval_model(X,y)\n",
    "results.append([type(clf.model).__name__,p,r,f,t])"
   ]
  },
  {
   "cell_type": "code",
   "execution_count": 18,
   "metadata": {},
   "outputs": [
    {
     "name": "stdout",
     "output_type": "stream",
     "text": [
      "Using customized model\n",
      "Training classifier done! Elapsed time: 0:00:00.095876\n",
      "\n",
      "\n",
      "Score evaluations using cross validation with cv = 5:\n",
      "Precision = 0.8458333333333332\n",
      "Recall = 0.7125\n",
      "F-1 Score = 0.7474999999999999\n"
     ]
    }
   ],
   "source": [
    "from sklearn.ensemble import AdaBoostClassifier\n",
    "from sklearn.ensemble import RandomForestClassifier\n",
    "model = AdaBoostClassifier(base_estimator=RandomForestClassifier(n_estimators=100),n_estimators=100,learning_rate=0.5)\n",
    "\n",
    "clf,t = train_classifier(X,y,model = model)\n",
    "p,r,f = clf.eval_model(X,y)\n",
    "results.append([type(clf.model).__name__+\" (RandomForest)\",p,r,f,t])"
   ]
  },
  {
   "cell_type": "code",
   "execution_count": 19,
   "metadata": {},
   "outputs": [
    {
     "name": "stdout",
     "output_type": "stream",
     "text": [
      "Using customized model\n",
      "Training classifier done! Elapsed time: 0:00:00.052627\n",
      "\n",
      "\n",
      "Score evaluations using cross validation with cv = 5:\n",
      "Precision = 0.44875\n",
      "Recall = 0.475\n",
      "F-1 Score = 0.41869047619047617\n"
     ]
    }
   ],
   "source": [
    "from sklearn.neighbors import KNeighborsClassifier\n",
    "model = KNeighborsClassifier()\n",
    "\n",
    "\n",
    "clf,t = train_classifier(X,y,model = model)\n",
    "p,r,f = clf.eval_model(X,y)\n",
    "results.append([type(clf.model).__name__,p,r,f,t])"
   ]
  },
  {
   "cell_type": "code",
   "execution_count": 20,
   "metadata": {},
   "outputs": [
    {
     "name": "stdout",
     "output_type": "stream",
     "text": [
      "Using customized model\n",
      "Training classifier done! Elapsed time: 0:00:00.006372\n",
      "\n",
      "\n",
      "Score evaluations using cross validation with cv = 5:\n",
      "Precision = 0.7079166666666666\n",
      "Recall = 0.675\n",
      "F-1 Score = 0.6576190476190475\n"
     ]
    }
   ],
   "source": [
    "from sklearn.neighbors import KNeighborsClassifier\n",
    "model = KNeighborsClassifier(n_neighbors=1)\n",
    "\n",
    "\n",
    "clf,t = train_classifier(X,y,model = model)\n",
    "p,r,f = clf.eval_model(X,y)\n",
    "results.append(['Nearest Neighbor',p,r,f,t])"
   ]
  },
  {
   "cell_type": "code",
   "execution_count": 21,
   "metadata": {},
   "outputs": [
    {
     "name": "stdout",
     "output_type": "stream",
     "text": [
      "Using customized model\n",
      "Training classifier done! Elapsed time: 0:00:00.152885\n",
      "\n",
      "\n",
      "Score evaluations using cross validation with cv = 5:\n",
      "Precision = 0.41380952380952374\n",
      "Recall = 0.4375\n",
      "F-1 Score = 0.3878968253968254\n"
     ]
    }
   ],
   "source": [
    "from sklearn.discriminant_analysis import QuadraticDiscriminantAnalysis\n",
    "model = QuadraticDiscriminantAnalysis()\n",
    "\n",
    "\n",
    "clf,t = train_classifier(X,y,model = model)\n",
    "p,r,f = clf.eval_model(X,y)\n",
    "results.append([type(clf.model).__name__,p,r,f,t])"
   ]
  },
  {
   "cell_type": "code",
   "execution_count": 22,
   "metadata": {},
   "outputs": [
    {
     "name": "stdout",
     "output_type": "stream",
     "text": [
      "Using customized model\n",
      "Training classifier done! Elapsed time: 0:00:00.205546\n",
      "\n",
      "\n",
      "Score evaluations using cross validation with cv = 5:\n",
      "Precision = 0.7725\n",
      "Recall = 0.7125\n",
      "F-1 Score = 0.705952380952381\n"
     ]
    }
   ],
   "source": [
    "from sklearn.naive_bayes import GaussianNB\n",
    "from sklearn.linear_model import LogisticRegression\n",
    "from sklearn.ensemble import  VotingClassifier\n",
    "gaussian = GaussianNB()\n",
    "linear = LogisticRegression(random_state=0, solver='lbfgs',multi_class='multinomial',n_jobs=-1)\n",
    "\n",
    "model = VotingClassifier(estimators=[('gaus', gaussian), ('line', linear)],voting='soft',n_jobs=-1)\n",
    "\n",
    "\n",
    "clf,t = train_classifier(X,y,model = model)\n",
    "p,r,f = clf.eval_model(X,y)\n",
    "results.append([\"Soft \"+type(clf.model).__name__+\" (GaussianNB + LogisticRegression)\",p,r,f,t])"
   ]
  },
  {
   "cell_type": "code",
   "execution_count": 24,
   "metadata": {},
   "outputs": [
    {
     "data": {
      "text/html": [
       "<div>\n",
       "<style scoped>\n",
       "    .dataframe tbody tr th:only-of-type {\n",
       "        vertical-align: middle;\n",
       "    }\n",
       "\n",
       "    .dataframe tbody tr th {\n",
       "        vertical-align: top;\n",
       "    }\n",
       "\n",
       "    .dataframe thead th {\n",
       "        text-align: right;\n",
       "    }\n",
       "</style>\n",
       "<table border=\"1\" class=\"dataframe\">\n",
       "  <thead>\n",
       "    <tr style=\"text-align: right;\">\n",
       "      <th></th>\n",
       "      <th>Classifier</th>\n",
       "      <th>Precision</th>\n",
       "      <th>Recall</th>\n",
       "      <th>F1</th>\n",
       "      <th>Time</th>\n",
       "    </tr>\n",
       "  </thead>\n",
       "  <tbody>\n",
       "    <tr>\n",
       "      <th>9</th>\n",
       "      <td>MLPClassifier 2 layers</td>\n",
       "      <td>0.941667</td>\n",
       "      <td>0.9125</td>\n",
       "      <td>0.920000</td>\n",
       "      <td>00:00:00.178727</td>\n",
       "    </tr>\n",
       "    <tr>\n",
       "      <th>4</th>\n",
       "      <td>SVC linear</td>\n",
       "      <td>0.916667</td>\n",
       "      <td>0.8750</td>\n",
       "      <td>0.870000</td>\n",
       "      <td>00:00:00.010613</td>\n",
       "    </tr>\n",
       "    <tr>\n",
       "      <th>8</th>\n",
       "      <td>MLPClassifier 1 layer</td>\n",
       "      <td>0.908333</td>\n",
       "      <td>0.9125</td>\n",
       "      <td>0.868333</td>\n",
       "      <td>00:00:00.251051</td>\n",
       "    </tr>\n",
       "    <tr>\n",
       "      <th>2</th>\n",
       "      <td>LogisticRegression</td>\n",
       "      <td>0.800000</td>\n",
       "      <td>0.7875</td>\n",
       "      <td>0.764167</td>\n",
       "      <td>00:00:01.047190</td>\n",
       "    </tr>\n",
       "    <tr>\n",
       "      <th>11</th>\n",
       "      <td>AdaBoostClassifier (RandomForest)</td>\n",
       "      <td>0.845833</td>\n",
       "      <td>0.7125</td>\n",
       "      <td>0.747500</td>\n",
       "      <td>00:00:00.095876</td>\n",
       "    </tr>\n",
       "    <tr>\n",
       "      <th>0</th>\n",
       "      <td>GaussianNB</td>\n",
       "      <td>0.772500</td>\n",
       "      <td>0.7125</td>\n",
       "      <td>0.705952</td>\n",
       "      <td>00:00:00.021782</td>\n",
       "    </tr>\n",
       "    <tr>\n",
       "      <th>15</th>\n",
       "      <td>Soft VotingClassifier (GaussianNB + LogisticRe...</td>\n",
       "      <td>0.772500</td>\n",
       "      <td>0.7125</td>\n",
       "      <td>0.705952</td>\n",
       "      <td>00:00:00.205546</td>\n",
       "    </tr>\n",
       "    <tr>\n",
       "      <th>13</th>\n",
       "      <td>Nearest Neighbor</td>\n",
       "      <td>0.707917</td>\n",
       "      <td>0.6750</td>\n",
       "      <td>0.657619</td>\n",
       "      <td>00:00:00.006372</td>\n",
       "    </tr>\n",
       "    <tr>\n",
       "      <th>6</th>\n",
       "      <td>RandomForestClassifier</td>\n",
       "      <td>0.679167</td>\n",
       "      <td>0.6000</td>\n",
       "      <td>0.633452</td>\n",
       "      <td>00:00:00.025650</td>\n",
       "    </tr>\n",
       "    <tr>\n",
       "      <th>7</th>\n",
       "      <td>NearestCentroid</td>\n",
       "      <td>0.631250</td>\n",
       "      <td>0.6250</td>\n",
       "      <td>0.591667</td>\n",
       "      <td>00:00:00.009076</td>\n",
       "    </tr>\n",
       "    <tr>\n",
       "      <th>1</th>\n",
       "      <td>BernoulliNB</td>\n",
       "      <td>0.606667</td>\n",
       "      <td>0.6000</td>\n",
       "      <td>0.565476</td>\n",
       "      <td>00:00:00.180394</td>\n",
       "    </tr>\n",
       "    <tr>\n",
       "      <th>5</th>\n",
       "      <td>DecisionTreeClassifier</td>\n",
       "      <td>0.545833</td>\n",
       "      <td>0.5750</td>\n",
       "      <td>0.534167</td>\n",
       "      <td>00:00:00.014697</td>\n",
       "    </tr>\n",
       "    <tr>\n",
       "      <th>3</th>\n",
       "      <td>SVC auto</td>\n",
       "      <td>0.539167</td>\n",
       "      <td>0.5750</td>\n",
       "      <td>0.520119</td>\n",
       "      <td>00:00:00.012123</td>\n",
       "    </tr>\n",
       "    <tr>\n",
       "      <th>12</th>\n",
       "      <td>KNeighborsClassifier</td>\n",
       "      <td>0.448750</td>\n",
       "      <td>0.4750</td>\n",
       "      <td>0.418690</td>\n",
       "      <td>00:00:00.052627</td>\n",
       "    </tr>\n",
       "    <tr>\n",
       "      <th>14</th>\n",
       "      <td>QuadraticDiscriminantAnalysis</td>\n",
       "      <td>0.413810</td>\n",
       "      <td>0.4375</td>\n",
       "      <td>0.387897</td>\n",
       "      <td>00:00:00.152885</td>\n",
       "    </tr>\n",
       "    <tr>\n",
       "      <th>10</th>\n",
       "      <td>AdaBoostClassifier</td>\n",
       "      <td>0.170833</td>\n",
       "      <td>0.2750</td>\n",
       "      <td>0.191438</td>\n",
       "      <td>00:00:00.090363</td>\n",
       "    </tr>\n",
       "  </tbody>\n",
       "</table>\n",
       "</div>"
      ],
      "text/plain": [
       "                                           Classifier  Precision  Recall  \\\n",
       "9                              MLPClassifier 2 layers   0.941667  0.9125   \n",
       "4                                          SVC linear   0.916667  0.8750   \n",
       "8                               MLPClassifier 1 layer   0.908333  0.9125   \n",
       "2                                  LogisticRegression   0.800000  0.7875   \n",
       "11                  AdaBoostClassifier (RandomForest)   0.845833  0.7125   \n",
       "0                                          GaussianNB   0.772500  0.7125   \n",
       "15  Soft VotingClassifier (GaussianNB + LogisticRe...   0.772500  0.7125   \n",
       "13                                   Nearest Neighbor   0.707917  0.6750   \n",
       "6                              RandomForestClassifier   0.679167  0.6000   \n",
       "7                                     NearestCentroid   0.631250  0.6250   \n",
       "1                                         BernoulliNB   0.606667  0.6000   \n",
       "5                              DecisionTreeClassifier   0.545833  0.5750   \n",
       "3                                            SVC auto   0.539167  0.5750   \n",
       "12                               KNeighborsClassifier   0.448750  0.4750   \n",
       "14                      QuadraticDiscriminantAnalysis   0.413810  0.4375   \n",
       "10                                 AdaBoostClassifier   0.170833  0.2750   \n",
       "\n",
       "          F1            Time  \n",
       "9   0.920000 00:00:00.178727  \n",
       "4   0.870000 00:00:00.010613  \n",
       "8   0.868333 00:00:00.251051  \n",
       "2   0.764167 00:00:01.047190  \n",
       "11  0.747500 00:00:00.095876  \n",
       "0   0.705952 00:00:00.021782  \n",
       "15  0.705952 00:00:00.205546  \n",
       "13  0.657619 00:00:00.006372  \n",
       "6   0.633452 00:00:00.025650  \n",
       "7   0.591667 00:00:00.009076  \n",
       "1   0.565476 00:00:00.180394  \n",
       "5   0.534167 00:00:00.014697  \n",
       "3   0.520119 00:00:00.012123  \n",
       "12  0.418690 00:00:00.052627  \n",
       "14  0.387897 00:00:00.152885  \n",
       "10  0.191438 00:00:00.090363  "
      ]
     },
     "execution_count": 24,
     "metadata": {},
     "output_type": "execute_result"
    }
   ],
   "source": [
    "evaluations = pd.DataFrame(results,columns=['Classifier','Precision','Recall','F1','Time'])\n",
    "top = evaluations.sort_values(['F1','Time'],ascending=[False,True])\n",
    "top.to_csv(\"evaluations_syntatic.csv\", encoding='utf-8', index=False)\n",
    "top"
   ]
  },
  {
   "cell_type": "markdown",
   "metadata": {},
   "source": [
    "# Experiments using Semantic Features"
   ]
  },
  {
   "cell_type": "code",
   "execution_count": 25,
   "metadata": {},
   "outputs": [
    {
     "name": "stdout",
     "output_type": "stream",
     "text": [
      "Creating train dataset\n",
      "Created train dataset\n",
      "Using semantic features True. QPs limited False\n"
     ]
    }
   ],
   "source": [
    "QAIs_path = \"input/medibot/MediBot.json\"\n",
    "QAI_Manager = train_QAIs()\n",
    "X,y = pre_process_classifier(QAI_Manager,use_semantic_features = True,number_qp_samples = 0)\n"
   ]
  },
  {
   "cell_type": "code",
   "execution_count": 26,
   "metadata": {},
   "outputs": [],
   "source": [
    "results = []"
   ]
  },
  {
   "cell_type": "code",
   "execution_count": 27,
   "metadata": {},
   "outputs": [
    {
     "name": "stdout",
     "output_type": "stream",
     "text": [
      "Using customized model\n",
      "Training classifier done! Elapsed time: 0:00:00.003952\n",
      "\n",
      "\n",
      "Score evaluations using cross validation with cv = 5:\n",
      "Precision = 0.9833333333333332\n",
      "Recall = 0.975\n",
      "F-1 Score = 0.9733333333333334\n"
     ]
    }
   ],
   "source": [
    "from sklearn.naive_bayes import GaussianNB\n",
    "model = GaussianNB()\n",
    "\n",
    "clf,t = train_classifier(X,y,model = model)\n",
    "p,r,f = clf.eval_model(X,y)\n",
    "results.append([type(clf.model).__name__,p,r,f,t])"
   ]
  },
  {
   "cell_type": "code",
   "execution_count": 28,
   "metadata": {},
   "outputs": [
    {
     "name": "stdout",
     "output_type": "stream",
     "text": [
      "Using customized model\n",
      "Training classifier done! Elapsed time: 0:00:00.004686\n",
      "\n",
      "\n",
      "Score evaluations using cross validation with cv = 5:\n",
      "Precision = 0.6641666666666666\n",
      "Recall = 0.6875\n",
      "F-1 Score = 0.6451190476190476\n"
     ]
    }
   ],
   "source": [
    "from sklearn.naive_bayes import BernoulliNB\n",
    "model = BernoulliNB()\n",
    "\n",
    "clf,t = train_classifier(X,y,model = model)\n",
    "p,r,f = clf.eval_model(X,y)\n",
    "results.append([type(clf.model).__name__,p,r,f,t])"
   ]
  },
  {
   "cell_type": "code",
   "execution_count": 29,
   "metadata": {},
   "outputs": [
    {
     "name": "stdout",
     "output_type": "stream",
     "text": [
      "Using customized model\n",
      "Training classifier done! Elapsed time: 0:00:00.028661\n",
      "\n",
      "\n",
      "Score evaluations using cross validation with cv = 5:\n",
      "Precision = 0.9583333333333333\n",
      "Recall = 0.9375\n",
      "F-1 Score = 0.9333333333333333\n"
     ]
    }
   ],
   "source": [
    "from sklearn.linear_model import LogisticRegression\n",
    "model = LogisticRegression(random_state=0, solver='lbfgs',multi_class='multinomial',n_jobs=-1)\n",
    "\n",
    "clf,t = train_classifier(X,y,model = model)\n",
    "p,r,f = clf.eval_model(X,y)\n",
    "results.append([type(clf.model).__name__,p,r,f,t])"
   ]
  },
  {
   "cell_type": "code",
   "execution_count": 30,
   "metadata": {},
   "outputs": [
    {
     "name": "stdout",
     "output_type": "stream",
     "text": [
      "Using customized model\n",
      "Training classifier done! Elapsed time: 0:00:00.007409\n",
      "\n",
      "\n",
      "Score evaluations using cross validation with cv = 5:\n",
      "Precision = 0.7491666666666666\n",
      "Recall = 0.775\n",
      "F-1 Score = 0.7319047619047618\n"
     ]
    }
   ],
   "source": [
    "from sklearn.svm import SVC\n",
    "model = SVC(gamma='auto')\n",
    "\n",
    "clf,t = train_classifier(X,y,model = model)\n",
    "p,r,f = clf.eval_model(X,y)\n",
    "results.append([type(clf.model).__name__+\" auto\",p,r,f,t])"
   ]
  },
  {
   "cell_type": "code",
   "execution_count": 31,
   "metadata": {},
   "outputs": [
    {
     "name": "stdout",
     "output_type": "stream",
     "text": [
      "Using customized model\n",
      "Training classifier done! Elapsed time: 0:00:00.006379\n",
      "\n",
      "\n",
      "Score evaluations using cross validation with cv = 5:\n",
      "Precision = 0.9833333333333332\n",
      "Recall = 0.975\n",
      "F-1 Score = 0.9733333333333334\n"
     ]
    }
   ],
   "source": [
    "from sklearn.svm import SVC\n",
    "model = SVC(C=1, kernel=\"linear\")\n",
    "\n",
    "\n",
    "clf,t = train_classifier(X,y,model = model)\n",
    "p,r,f = clf.eval_model(X,y)\n",
    "results.append([type(clf.model).__name__+\" linear\",p,r,f,t])"
   ]
  },
  {
   "cell_type": "code",
   "execution_count": 32,
   "metadata": {},
   "outputs": [
    {
     "name": "stdout",
     "output_type": "stream",
     "text": [
      "Using customized model\n",
      "Training classifier done! Elapsed time: 0:00:00.007405\n",
      "\n",
      "\n",
      "Score evaluations using cross validation with cv = 5:\n",
      "Precision = 0.8583333333333332\n",
      "Recall = 0.875\n",
      "F-1 Score = 0.8608333333333332\n"
     ]
    }
   ],
   "source": [
    "from sklearn.tree import DecisionTreeClassifier\n",
    "model = DecisionTreeClassifier(random_state=0)\n",
    "\n",
    "clf,t = train_classifier(X,y,model = model)\n",
    "p,r,f = clf.eval_model(X,y)\n",
    "results.append([type(clf.model).__name__,p,r,f,t])"
   ]
  },
  {
   "cell_type": "code",
   "execution_count": 33,
   "metadata": {},
   "outputs": [
    {
     "name": "stdout",
     "output_type": "stream",
     "text": [
      "Using customized model\n",
      "Training classifier done! Elapsed time: 0:00:00.020386\n",
      "\n",
      "\n",
      "Score evaluations using cross validation with cv = 5:\n",
      "Precision = 0.6791666666666666\n",
      "Recall = 0.65\n",
      "F-1 Score = 0.8025\n"
     ]
    }
   ],
   "source": [
    "from sklearn.ensemble import RandomForestClassifier\n",
    "model = RandomForestClassifier()\n",
    "\n",
    "clf,t = train_classifier(X,y,model = model)\n",
    "p,r,f = clf.eval_model(X,y)\n",
    "results.append([type(clf.model).__name__,p,r,f,t])"
   ]
  },
  {
   "cell_type": "code",
   "execution_count": 34,
   "metadata": {},
   "outputs": [
    {
     "name": "stdout",
     "output_type": "stream",
     "text": [
      "Using customized model\n",
      "Training classifier done! Elapsed time: 0:00:00.005260\n",
      "\n",
      "\n",
      "Score evaluations using cross validation with cv = 5:\n",
      "Precision = 0.8558333333333332\n",
      "Recall = 0.8375\n",
      "F-1 Score = 0.8226190476190476\n"
     ]
    }
   ],
   "source": [
    "from sklearn.neighbors.nearest_centroid import NearestCentroid\n",
    "model = NearestCentroid()\n",
    "\n",
    "clf,t = train_classifier(X,y,model = model)\n",
    "p,r,f = clf.eval_model(X,y)\n",
    "results.append([type(clf.model).__name__,p,r,f,t])"
   ]
  },
  {
   "cell_type": "code",
   "execution_count": 35,
   "metadata": {},
   "outputs": [
    {
     "name": "stdout",
     "output_type": "stream",
     "text": [
      "Using customized model\n",
      "Training classifier done! Elapsed time: 0:00:00.165704\n",
      "\n",
      "\n",
      "Score evaluations using cross validation with cv = 5:\n",
      "Precision = 0.9625\n",
      "Recall = 0.95\n",
      "F-1 Score = 0.9466666666666667\n"
     ]
    }
   ],
   "source": [
    "from sklearn.neural_network import MLPClassifier\n",
    "model = MLPClassifier()\n",
    "\n",
    "clf,t = train_classifier(X,y,model = model)\n",
    "p,r,f = clf.eval_model(X,y)\n",
    "results.append([type(clf.model).__name__+\" 1 layer\",p,r,f,t])"
   ]
  },
  {
   "cell_type": "code",
   "execution_count": 36,
   "metadata": {},
   "outputs": [
    {
     "name": "stdout",
     "output_type": "stream",
     "text": [
      "Using customized model\n",
      "Training classifier done! Elapsed time: 0:00:00.176725\n",
      "\n",
      "\n",
      "Score evaluations using cross validation with cv = 5:\n",
      "Precision = 0.9833333333333332\n",
      "Recall = 0.95\n",
      "F-1 Score = 0.96\n"
     ]
    }
   ],
   "source": [
    "from sklearn.neural_network import MLPClassifier\n",
    "model = MLPClassifier(hidden_layer_sizes=(100,100))\n",
    "\n",
    "clf,t = train_classifier(X,y,model = model)\n",
    "p,r,f = clf.eval_model(X,y)\n",
    "results.append([type(clf.model).__name__+\" 2 layers\",p,r,f,t])"
   ]
  },
  {
   "cell_type": "code",
   "execution_count": 37,
   "metadata": {},
   "outputs": [
    {
     "name": "stdout",
     "output_type": "stream",
     "text": [
      "Using customized model\n",
      "Training classifier done! Elapsed time: 0:00:00.101881\n",
      "\n",
      "\n",
      "Score evaluations using cross validation with cv = 5:\n",
      "Precision = 0.2854166666666667\n",
      "Recall = 0.475\n",
      "F-1 Score = 0.3576190476190476\n"
     ]
    }
   ],
   "source": [
    "from sklearn.ensemble import AdaBoostClassifier\n",
    "model = AdaBoostClassifier()\n",
    "\n",
    "clf,t = train_classifier(X,y,model = model)\n",
    "p,r,f = clf.eval_model(X,y)\n",
    "results.append([type(clf.model).__name__,p,r,f,t])"
   ]
  },
  {
   "cell_type": "code",
   "execution_count": 38,
   "metadata": {},
   "outputs": [
    {
     "name": "stdout",
     "output_type": "stream",
     "text": [
      "Using customized model\n",
      "Training classifier done! Elapsed time: 0:00:00.087451\n",
      "\n",
      "\n",
      "Score evaluations using cross validation with cv = 5:\n",
      "Precision = 0.8666666666666666\n",
      "Recall = 0.875\n",
      "F-1 Score = 0.8358333333333334\n"
     ]
    }
   ],
   "source": [
    "from sklearn.ensemble import AdaBoostClassifier\n",
    "from sklearn.ensemble import RandomForestClassifier\n",
    "model = AdaBoostClassifier(base_estimator=RandomForestClassifier(n_estimators=100),n_estimators=100,learning_rate=0.5)\n",
    "\n",
    "clf,t = train_classifier(X,y,model = model)\n",
    "p,r,f = clf.eval_model(X,y)\n",
    "results.append([type(clf.model).__name__+\" (RandomForest)\",p,r,f,t])"
   ]
  },
  {
   "cell_type": "code",
   "execution_count": 39,
   "metadata": {},
   "outputs": [
    {
     "name": "stdout",
     "output_type": "stream",
     "text": [
      "Using customized model\n",
      "Training classifier done! Elapsed time: 0:00:00.004891\n",
      "\n",
      "\n",
      "Score evaluations using cross validation with cv = 5:\n",
      "Precision = 0.7929166666666667\n",
      "Recall = 0.775\n",
      "F-1 Score = 0.7577380952380952\n"
     ]
    }
   ],
   "source": [
    "from sklearn.neighbors import KNeighborsClassifier\n",
    "model = KNeighborsClassifier()\n",
    "\n",
    "\n",
    "clf,t = train_classifier(X,y,model = model)\n",
    "p,r,f = clf.eval_model(X,y)\n",
    "results.append([type(clf.model).__name__,p,r,f,t])"
   ]
  },
  {
   "cell_type": "code",
   "execution_count": 40,
   "metadata": {},
   "outputs": [
    {
     "name": "stdout",
     "output_type": "stream",
     "text": [
      "Using customized model\n",
      "Training classifier done! Elapsed time: 0:00:00.004613\n",
      "\n",
      "\n",
      "Score evaluations using cross validation with cv = 5:\n",
      "Precision = 0.8791666666666667\n",
      "Recall = 0.875\n",
      "F-1 Score = 0.86\n"
     ]
    }
   ],
   "source": [
    "from sklearn.neighbors import KNeighborsClassifier\n",
    "model = KNeighborsClassifier(n_neighbors=1)\n",
    "\n",
    "\n",
    "clf,t = train_classifier(X,y,model = model)\n",
    "p,r,f = clf.eval_model(X,y)\n",
    "results.append(['Nearest Neighbor',p,r,f,t])"
   ]
  },
  {
   "cell_type": "code",
   "execution_count": 41,
   "metadata": {},
   "outputs": [
    {
     "name": "stdout",
     "output_type": "stream",
     "text": [
      "Using customized model\n",
      "Training classifier done! Elapsed time: 0:00:00.006129\n",
      "\n",
      "\n",
      "Score evaluations using cross validation with cv = 5:\n",
      "Precision = 0.41380952380952374\n",
      "Recall = 0.4375\n",
      "F-1 Score = 0.3878968253968254\n"
     ]
    }
   ],
   "source": [
    "from sklearn.discriminant_analysis import QuadraticDiscriminantAnalysis\n",
    "model = QuadraticDiscriminantAnalysis()\n",
    "\n",
    "\n",
    "clf,t = train_classifier(X,y,model = model)\n",
    "p,r,f = clf.eval_model(X,y)\n",
    "results.append([type(clf.model).__name__,p,r,f,t])"
   ]
  },
  {
   "cell_type": "code",
   "execution_count": 42,
   "metadata": {},
   "outputs": [
    {
     "name": "stdout",
     "output_type": "stream",
     "text": [
      "Using customized model\n",
      "Training classifier done! Elapsed time: 0:00:00.112884\n",
      "\n",
      "\n",
      "Score evaluations using cross validation with cv = 5:\n",
      "Precision = 0.9833333333333332\n",
      "Recall = 0.975\n",
      "F-1 Score = 0.9733333333333334\n"
     ]
    }
   ],
   "source": [
    "from sklearn.naive_bayes import GaussianNB\n",
    "from sklearn.linear_model import LogisticRegression\n",
    "from sklearn.ensemble import  VotingClassifier\n",
    "gaussian = GaussianNB()\n",
    "linear = LogisticRegression(random_state=0, solver='lbfgs',multi_class='multinomial',n_jobs=-1)\n",
    "\n",
    "model = VotingClassifier(estimators=[('gaus', gaussian), ('line', linear)],voting='soft',n_jobs=-1)\n",
    "\n",
    "\n",
    "clf,t = train_classifier(X,y,model = model)\n",
    "p,r,f = clf.eval_model(X,y)\n",
    "results.append([\"Soft \"+type(clf.model).__name__+\" (GaussianNB + LogisticRegression)\",p,r,f,t])"
   ]
  },
  {
   "cell_type": "code",
   "execution_count": 43,
   "metadata": {},
   "outputs": [
    {
     "data": {
      "text/html": [
       "<div>\n",
       "<style scoped>\n",
       "    .dataframe tbody tr th:only-of-type {\n",
       "        vertical-align: middle;\n",
       "    }\n",
       "\n",
       "    .dataframe tbody tr th {\n",
       "        vertical-align: top;\n",
       "    }\n",
       "\n",
       "    .dataframe thead th {\n",
       "        text-align: right;\n",
       "    }\n",
       "</style>\n",
       "<table border=\"1\" class=\"dataframe\">\n",
       "  <thead>\n",
       "    <tr style=\"text-align: right;\">\n",
       "      <th></th>\n",
       "      <th>Classifier</th>\n",
       "      <th>Precision</th>\n",
       "      <th>Recall</th>\n",
       "      <th>F1</th>\n",
       "      <th>Time</th>\n",
       "    </tr>\n",
       "  </thead>\n",
       "  <tbody>\n",
       "    <tr>\n",
       "      <th>0</th>\n",
       "      <td>GaussianNB</td>\n",
       "      <td>0.983333</td>\n",
       "      <td>0.9750</td>\n",
       "      <td>0.973333</td>\n",
       "      <td>00:00:00.003952</td>\n",
       "    </tr>\n",
       "    <tr>\n",
       "      <th>4</th>\n",
       "      <td>SVC linear</td>\n",
       "      <td>0.983333</td>\n",
       "      <td>0.9750</td>\n",
       "      <td>0.973333</td>\n",
       "      <td>00:00:00.006379</td>\n",
       "    </tr>\n",
       "    <tr>\n",
       "      <th>15</th>\n",
       "      <td>Soft VotingClassifier (GaussianNB + LogisticRe...</td>\n",
       "      <td>0.983333</td>\n",
       "      <td>0.9750</td>\n",
       "      <td>0.973333</td>\n",
       "      <td>00:00:00.112884</td>\n",
       "    </tr>\n",
       "    <tr>\n",
       "      <th>9</th>\n",
       "      <td>MLPClassifier 2 layers</td>\n",
       "      <td>0.983333</td>\n",
       "      <td>0.9500</td>\n",
       "      <td>0.960000</td>\n",
       "      <td>00:00:00.176725</td>\n",
       "    </tr>\n",
       "    <tr>\n",
       "      <th>8</th>\n",
       "      <td>MLPClassifier 1 layer</td>\n",
       "      <td>0.962500</td>\n",
       "      <td>0.9500</td>\n",
       "      <td>0.946667</td>\n",
       "      <td>00:00:00.165704</td>\n",
       "    </tr>\n",
       "    <tr>\n",
       "      <th>2</th>\n",
       "      <td>LogisticRegression</td>\n",
       "      <td>0.958333</td>\n",
       "      <td>0.9375</td>\n",
       "      <td>0.933333</td>\n",
       "      <td>00:00:00.028661</td>\n",
       "    </tr>\n",
       "    <tr>\n",
       "      <th>5</th>\n",
       "      <td>DecisionTreeClassifier</td>\n",
       "      <td>0.858333</td>\n",
       "      <td>0.8750</td>\n",
       "      <td>0.860833</td>\n",
       "      <td>00:00:00.007405</td>\n",
       "    </tr>\n",
       "    <tr>\n",
       "      <th>13</th>\n",
       "      <td>Nearest Neighbor</td>\n",
       "      <td>0.879167</td>\n",
       "      <td>0.8750</td>\n",
       "      <td>0.860000</td>\n",
       "      <td>00:00:00.004613</td>\n",
       "    </tr>\n",
       "    <tr>\n",
       "      <th>11</th>\n",
       "      <td>AdaBoostClassifier (RandomForest)</td>\n",
       "      <td>0.866667</td>\n",
       "      <td>0.8750</td>\n",
       "      <td>0.835833</td>\n",
       "      <td>00:00:00.087451</td>\n",
       "    </tr>\n",
       "    <tr>\n",
       "      <th>7</th>\n",
       "      <td>NearestCentroid</td>\n",
       "      <td>0.855833</td>\n",
       "      <td>0.8375</td>\n",
       "      <td>0.822619</td>\n",
       "      <td>00:00:00.005260</td>\n",
       "    </tr>\n",
       "    <tr>\n",
       "      <th>6</th>\n",
       "      <td>RandomForestClassifier</td>\n",
       "      <td>0.679167</td>\n",
       "      <td>0.6500</td>\n",
       "      <td>0.802500</td>\n",
       "      <td>00:00:00.020386</td>\n",
       "    </tr>\n",
       "    <tr>\n",
       "      <th>12</th>\n",
       "      <td>KNeighborsClassifier</td>\n",
       "      <td>0.792917</td>\n",
       "      <td>0.7750</td>\n",
       "      <td>0.757738</td>\n",
       "      <td>00:00:00.004891</td>\n",
       "    </tr>\n",
       "    <tr>\n",
       "      <th>3</th>\n",
       "      <td>SVC auto</td>\n",
       "      <td>0.749167</td>\n",
       "      <td>0.7750</td>\n",
       "      <td>0.731905</td>\n",
       "      <td>00:00:00.007409</td>\n",
       "    </tr>\n",
       "    <tr>\n",
       "      <th>1</th>\n",
       "      <td>BernoulliNB</td>\n",
       "      <td>0.664167</td>\n",
       "      <td>0.6875</td>\n",
       "      <td>0.645119</td>\n",
       "      <td>00:00:00.004686</td>\n",
       "    </tr>\n",
       "    <tr>\n",
       "      <th>14</th>\n",
       "      <td>QuadraticDiscriminantAnalysis</td>\n",
       "      <td>0.413810</td>\n",
       "      <td>0.4375</td>\n",
       "      <td>0.387897</td>\n",
       "      <td>00:00:00.006129</td>\n",
       "    </tr>\n",
       "    <tr>\n",
       "      <th>10</th>\n",
       "      <td>AdaBoostClassifier</td>\n",
       "      <td>0.285417</td>\n",
       "      <td>0.4750</td>\n",
       "      <td>0.357619</td>\n",
       "      <td>00:00:00.101881</td>\n",
       "    </tr>\n",
       "  </tbody>\n",
       "</table>\n",
       "</div>"
      ],
      "text/plain": [
       "                                           Classifier  Precision  Recall  \\\n",
       "0                                          GaussianNB   0.983333  0.9750   \n",
       "4                                          SVC linear   0.983333  0.9750   \n",
       "15  Soft VotingClassifier (GaussianNB + LogisticRe...   0.983333  0.9750   \n",
       "9                              MLPClassifier 2 layers   0.983333  0.9500   \n",
       "8                               MLPClassifier 1 layer   0.962500  0.9500   \n",
       "2                                  LogisticRegression   0.958333  0.9375   \n",
       "5                              DecisionTreeClassifier   0.858333  0.8750   \n",
       "13                                   Nearest Neighbor   0.879167  0.8750   \n",
       "11                  AdaBoostClassifier (RandomForest)   0.866667  0.8750   \n",
       "7                                     NearestCentroid   0.855833  0.8375   \n",
       "6                              RandomForestClassifier   0.679167  0.6500   \n",
       "12                               KNeighborsClassifier   0.792917  0.7750   \n",
       "3                                            SVC auto   0.749167  0.7750   \n",
       "1                                         BernoulliNB   0.664167  0.6875   \n",
       "14                      QuadraticDiscriminantAnalysis   0.413810  0.4375   \n",
       "10                                 AdaBoostClassifier   0.285417  0.4750   \n",
       "\n",
       "          F1            Time  \n",
       "0   0.973333 00:00:00.003952  \n",
       "4   0.973333 00:00:00.006379  \n",
       "15  0.973333 00:00:00.112884  \n",
       "9   0.960000 00:00:00.176725  \n",
       "8   0.946667 00:00:00.165704  \n",
       "2   0.933333 00:00:00.028661  \n",
       "5   0.860833 00:00:00.007405  \n",
       "13  0.860000 00:00:00.004613  \n",
       "11  0.835833 00:00:00.087451  \n",
       "7   0.822619 00:00:00.005260  \n",
       "6   0.802500 00:00:00.020386  \n",
       "12  0.757738 00:00:00.004891  \n",
       "3   0.731905 00:00:00.007409  \n",
       "1   0.645119 00:00:00.004686  \n",
       "14  0.387897 00:00:00.006129  \n",
       "10  0.357619 00:00:00.101881  "
      ]
     },
     "execution_count": 43,
     "metadata": {},
     "output_type": "execute_result"
    }
   ],
   "source": [
    "evaluations = pd.DataFrame(results,columns=['Classifier','Precision','Recall','F1','Time'])\n",
    "top = evaluations.sort_values(['F1','Time'],ascending=[False,True])\n",
    "top.to_csv(\"evaluations_semantic.csv\", encoding='utf-8', index=False)\n",
    "top"
   ]
  },
  {
   "cell_type": "markdown",
   "metadata": {},
   "source": [
    "# Evaluating the impact of the number of QPs in classification"
   ]
  },
  {
   "cell_type": "markdown",
   "metadata": {},
   "source": [
    "## Using Semantic Features"
   ]
  },
  {
   "cell_type": "code",
   "execution_count": 59,
   "metadata": {},
   "outputs": [],
   "source": [
    "results = []"
   ]
  },
  {
   "cell_type": "code",
   "execution_count": 60,
   "metadata": {},
   "outputs": [
    {
     "name": "stdout",
     "output_type": "stream",
     "text": [
      "Using semantic features True. QPs limited True\n",
      "Reached QPs limited  2\n",
      "Reached QPs limited  2\n",
      "Reached QPs limited  2\n",
      "Reached QPs limited  2\n",
      "Reached QPs limited  2\n",
      "Reached QPs limited  2\n",
      "Reached QPs limited  2\n",
      "Reached QPs limited  2\n",
      "Using customized model\n",
      "Training classifier done! Elapsed time: 0:00:00.006387\n",
      "\n",
      "\n",
      "Score evaluations using cross validation with cv = 2:\n",
      "Precision = 0.47916666666666663\n",
      "Recall = 0.625\n",
      "F-1 Score = 0.5208333333333333\n",
      "Using semantic features True. QPs limited True\n",
      "Reached QPs limited  3\n",
      "Reached QPs limited  3\n",
      "Reached QPs limited  3\n",
      "Reached QPs limited  3\n",
      "Reached QPs limited  3\n",
      "Reached QPs limited  3\n",
      "Reached QPs limited  3\n",
      "Reached QPs limited  3\n",
      "Using customized model\n",
      "Training classifier done! Elapsed time: 0:00:00.006205\n",
      "\n",
      "\n",
      "Score evaluations using cross validation with cv = 2:\n",
      "Precision = 0.71875\n",
      "Recall = 0.75\n",
      "F-1 Score = 0.7166666666666667\n",
      "Using semantic features True. QPs limited True\n",
      "Reached QPs limited  4\n",
      "Reached QPs limited  4\n",
      "Reached QPs limited  4\n",
      "Reached QPs limited  4\n",
      "Reached QPs limited  4\n",
      "Reached QPs limited  4\n",
      "Reached QPs limited  4\n",
      "Reached QPs limited  4\n",
      "Using customized model\n",
      "Training classifier done! Elapsed time: 0:00:00.006535\n",
      "\n",
      "\n",
      "Score evaluations using cross validation with cv = 3:\n",
      "Precision = 0.7083333333333334\n",
      "Recall = 0.7708333333333334\n",
      "F-1 Score = 0.725\n",
      "Using semantic features True. QPs limited True\n",
      "Reached QPs limited  5\n",
      "Reached QPs limited  5\n",
      "Reached QPs limited  5\n",
      "Reached QPs limited  5\n",
      "Reached QPs limited  5\n",
      "Reached QPs limited  5\n",
      "Reached QPs limited  5\n",
      "Reached QPs limited  5\n",
      "Using customized model\n",
      "Training classifier done! Elapsed time: 0:00:00.007592\n",
      "\n",
      "\n",
      "Score evaluations using cross validation with cv = 5:\n",
      "Precision = 0.8208333333333334\n",
      "Recall = 0.875\n",
      "F-1 Score = 0.8375\n",
      "Using semantic features True. QPs limited True\n",
      "Reached QPs limited  6\n",
      "Reached QPs limited  6\n",
      "Reached QPs limited  6\n",
      "Reached QPs limited  6\n",
      "Reached QPs limited  6\n",
      "Reached QPs limited  6\n",
      "Reached QPs limited  6\n",
      "Reached QPs limited  6\n",
      "Using customized model\n",
      "Training classifier done! Elapsed time: 0:00:00.006898\n",
      "\n",
      "\n",
      "Score evaluations using cross validation with cv = 5:\n",
      "Precision = 0.7933333333333332\n",
      "Recall = 0.8375\n",
      "F-1 Score = 0.8017857142857142\n",
      "Using semantic features True. QPs limited True\n",
      "Reached QPs limited  7\n",
      "Reached QPs limited  7\n",
      "Reached QPs limited  7\n",
      "Reached QPs limited  7\n",
      "Reached QPs limited  7\n",
      "Reached QPs limited  7\n",
      "Reached QPs limited  7\n",
      "Reached QPs limited  7\n",
      "Using customized model\n",
      "Training classifier done! Elapsed time: 0:00:00.006074\n",
      "\n",
      "\n",
      "Score evaluations using cross validation with cv = 5:\n",
      "Precision = 0.85\n",
      "Recall = 0.8875\n",
      "F-1 Score = 0.8625\n",
      "Using semantic features True. QPs limited True\n",
      "Reached QPs limited  8\n",
      "Reached QPs limited  8\n",
      "Reached QPs limited  8\n",
      "Reached QPs limited  8\n",
      "Reached QPs limited  8\n",
      "Reached QPs limited  8\n",
      "Reached QPs limited  8\n",
      "Reached QPs limited  8\n",
      "Using customized model\n",
      "Training classifier done! Elapsed time: 0:00:00.008595\n",
      "\n",
      "\n",
      "Score evaluations using cross validation with cv = 5:\n",
      "Precision = 0.9208333333333332\n",
      "Recall = 0.925\n",
      "F-1 Score = 0.915\n",
      "Using semantic features True. QPs limited True\n",
      "Reached QPs limited  9\n",
      "Reached QPs limited  9\n",
      "Reached QPs limited  9\n",
      "Reached QPs limited  9\n",
      "Reached QPs limited  9\n",
      "Reached QPs limited  9\n",
      "Reached QPs limited  9\n",
      "Reached QPs limited  9\n",
      "Using customized model\n",
      "Training classifier done! Elapsed time: 0:00:00.006601\n",
      "\n",
      "\n",
      "Score evaluations using cross validation with cv = 5:\n",
      "Precision = 0.9\n",
      "Recall = 0.9125\n",
      "F-1 Score = 0.8933333333333332\n",
      "Using semantic features True. QPs limited True\n",
      "Reached QPs limited  10\n",
      "Reached QPs limited  10\n",
      "Reached QPs limited  10\n",
      "Reached QPs limited  10\n",
      "Reached QPs limited  10\n",
      "Reached QPs limited  10\n",
      "Reached QPs limited  10\n",
      "Reached QPs limited  10\n",
      "Using customized model\n",
      "Training classifier done! Elapsed time: 0:00:00.006462\n",
      "\n",
      "\n",
      "Score evaluations using cross validation with cv = 5:\n",
      "Precision = 0.9833333333333332\n",
      "Recall = 0.975\n",
      "F-1 Score = 0.9733333333333334\n"
     ]
    }
   ],
   "source": [
    "from sklearn.naive_bayes import GaussianNB\n",
    "for number_qps in range(2,11):\n",
    "    model = GaussianNB()\n",
    "    \n",
    "    X,y = pre_process_classifier(QAI_Manager,use_semantic_features = True,number_qp_samples = number_qps)\n",
    "    clf,t = train_classifier(X,y,model = model)\n",
    "    cv=5\n",
    "    if number_qps < 5:\n",
    "        cv = max((number_qps - 1),2)\n",
    "    p,r,f = clf.eval_model(X,y,cv=cv)\n",
    "    results.append([number_qps,p,r,f,t])"
   ]
  },
  {
   "cell_type": "code",
   "execution_count": 49,
   "metadata": {},
   "outputs": [
    {
     "data": {
      "text/html": [
       "<div>\n",
       "<style scoped>\n",
       "    .dataframe tbody tr th:only-of-type {\n",
       "        vertical-align: middle;\n",
       "    }\n",
       "\n",
       "    .dataframe tbody tr th {\n",
       "        vertical-align: top;\n",
       "    }\n",
       "\n",
       "    .dataframe thead th {\n",
       "        text-align: right;\n",
       "    }\n",
       "</style>\n",
       "<table border=\"1\" class=\"dataframe\">\n",
       "  <thead>\n",
       "    <tr style=\"text-align: right;\">\n",
       "      <th></th>\n",
       "      <th>Number_QPs</th>\n",
       "      <th>Precision</th>\n",
       "      <th>Recall</th>\n",
       "      <th>F1</th>\n",
       "      <th>Time</th>\n",
       "    </tr>\n",
       "  </thead>\n",
       "  <tbody>\n",
       "    <tr>\n",
       "      <th>8</th>\n",
       "      <td>10</td>\n",
       "      <td>0.983333</td>\n",
       "      <td>0.975000</td>\n",
       "      <td>0.973333</td>\n",
       "      <td>00:00:00.007401</td>\n",
       "    </tr>\n",
       "    <tr>\n",
       "      <th>6</th>\n",
       "      <td>8</td>\n",
       "      <td>0.920833</td>\n",
       "      <td>0.925000</td>\n",
       "      <td>0.915000</td>\n",
       "      <td>00:00:00.005539</td>\n",
       "    </tr>\n",
       "    <tr>\n",
       "      <th>7</th>\n",
       "      <td>9</td>\n",
       "      <td>0.900000</td>\n",
       "      <td>0.912500</td>\n",
       "      <td>0.893333</td>\n",
       "      <td>00:00:00.005716</td>\n",
       "    </tr>\n",
       "    <tr>\n",
       "      <th>5</th>\n",
       "      <td>7</td>\n",
       "      <td>0.850000</td>\n",
       "      <td>0.887500</td>\n",
       "      <td>0.862500</td>\n",
       "      <td>00:00:00.006161</td>\n",
       "    </tr>\n",
       "    <tr>\n",
       "      <th>3</th>\n",
       "      <td>5</td>\n",
       "      <td>0.820833</td>\n",
       "      <td>0.875000</td>\n",
       "      <td>0.837500</td>\n",
       "      <td>00:00:00.006661</td>\n",
       "    </tr>\n",
       "    <tr>\n",
       "      <th>4</th>\n",
       "      <td>6</td>\n",
       "      <td>0.793333</td>\n",
       "      <td>0.837500</td>\n",
       "      <td>0.801786</td>\n",
       "      <td>00:00:00.005310</td>\n",
       "    </tr>\n",
       "    <tr>\n",
       "      <th>2</th>\n",
       "      <td>4</td>\n",
       "      <td>0.708333</td>\n",
       "      <td>0.770833</td>\n",
       "      <td>0.725000</td>\n",
       "      <td>00:00:00.005207</td>\n",
       "    </tr>\n",
       "    <tr>\n",
       "      <th>1</th>\n",
       "      <td>3</td>\n",
       "      <td>0.718750</td>\n",
       "      <td>0.750000</td>\n",
       "      <td>0.716667</td>\n",
       "      <td>00:00:00.005655</td>\n",
       "    </tr>\n",
       "    <tr>\n",
       "      <th>0</th>\n",
       "      <td>2</td>\n",
       "      <td>0.479167</td>\n",
       "      <td>0.625000</td>\n",
       "      <td>0.520833</td>\n",
       "      <td>00:00:00.005247</td>\n",
       "    </tr>\n",
       "  </tbody>\n",
       "</table>\n",
       "</div>"
      ],
      "text/plain": [
       "   Number_QPs  Precision    Recall        F1            Time\n",
       "8          10   0.983333  0.975000  0.973333 00:00:00.007401\n",
       "6           8   0.920833  0.925000  0.915000 00:00:00.005539\n",
       "7           9   0.900000  0.912500  0.893333 00:00:00.005716\n",
       "5           7   0.850000  0.887500  0.862500 00:00:00.006161\n",
       "3           5   0.820833  0.875000  0.837500 00:00:00.006661\n",
       "4           6   0.793333  0.837500  0.801786 00:00:00.005310\n",
       "2           4   0.708333  0.770833  0.725000 00:00:00.005207\n",
       "1           3   0.718750  0.750000  0.716667 00:00:00.005655\n",
       "0           2   0.479167  0.625000  0.520833 00:00:00.005247"
      ]
     },
     "execution_count": 49,
     "metadata": {},
     "output_type": "execute_result"
    }
   ],
   "source": [
    "evaluations = pd.DataFrame(results,columns=['Number_QPs','Precision','Recall','F1','Time'])\n",
    "top = evaluations.sort_values(['F1','Time'],ascending=[False,True])\n",
    "top.to_csv(\"evaluations_semantic_number_qp.csv\", encoding='utf-8', index=False)\n",
    "top"
   ]
  },
  {
   "cell_type": "code",
   "execution_count": 66,
   "metadata": {},
   "outputs": [
    {
     "data": {
      "text/plain": [
       "<matplotlib.axes._subplots.AxesSubplot at 0x7fd613df70f0>"
      ]
     },
     "execution_count": 66,
     "metadata": {},
     "output_type": "execute_result"
    },
    {
     "data": {
      "image/png": "[encoded data removed]",
      "text/plain": [
       "<Figure size 432x288 with 1 Axes>"
      ]
     },
     "metadata": {
      "needs_background": "light"
     },
     "output_type": "display_data"
    }
   ],
   "source": [
    "evaluations.plot.line(x='Number_QPs',y='F1')"
   ]
  },
  {
   "cell_type": "code",
   "execution_count": 67,
   "metadata": {},
   "outputs": [
    {
     "data": {
      "text/plain": [
       "<matplotlib.axes._subplots.AxesSubplot at 0x7fd5f8bdcf98>"
      ]
     },
     "execution_count": 67,
     "metadata": {},
     "output_type": "execute_result"
    },
    {
     "data": {
      "image/png": "[encoded data removed]",
      "text/plain": [
       "<Figure size 432x288 with 1 Axes>"
      ]
     },
     "metadata": {
      "needs_background": "light"
     },
     "output_type": "display_data"
    }
   ],
   "source": [
    "evaluations.plot.line(x='Number_QPs',y='Time')"
   ]
  },
  {
   "cell_type": "code",
   "execution_count": null,
   "metadata": {},
   "outputs": [],
   "source": []
  },
  {
   "cell_type": "markdown",
   "metadata": {},
   "source": [
    "## Without Semantic Features"
   ]
  },
  {
   "cell_type": "code",
   "execution_count": 61,
   "metadata": {},
   "outputs": [],
   "source": [
    "results = []"
   ]
  },
  {
   "cell_type": "code",
   "execution_count": 62,
   "metadata": {},
   "outputs": [
    {
     "name": "stdout",
     "output_type": "stream",
     "text": [
      "Using semantic features False. QPs limited True\n",
      "Reached QPs limited  2\n",
      "Reached QPs limited  2\n",
      "Reached QPs limited  2\n",
      "Reached QPs limited  2\n",
      "Reached QPs limited  2\n",
      "Reached QPs limited  2\n",
      "Reached QPs limited  2\n",
      "Reached QPs limited  2\n",
      "Using customized model\n",
      "Training classifier done! Elapsed time: 0:00:00.091874\n",
      "\n",
      "\n",
      "Score evaluations using cross validation with cv = 2:\n",
      "Precision = 0.5520833333333333\n",
      "Recall = 0.5\n",
      "F-1 Score = 0.48958333333333326\n",
      "Using semantic features False. QPs limited True\n",
      "Reached QPs limited  3\n",
      "Reached QPs limited  3\n",
      "Reached QPs limited  3\n",
      "Reached QPs limited  3\n",
      "Reached QPs limited  3\n",
      "Reached QPs limited  3\n",
      "Reached QPs limited  3\n",
      "Reached QPs limited  3\n",
      "Using customized model\n",
      "Training classifier done! Elapsed time: 0:00:00.147183\n",
      "\n",
      "\n",
      "Score evaluations using cross validation with cv = 2:\n",
      "Precision = 0.44791666666666663\n",
      "Recall = 0.53125\n",
      "F-1 Score = 0.39166666666666666\n",
      "Using semantic features False. QPs limited True\n",
      "Reached QPs limited  4\n",
      "Reached QPs limited  4\n",
      "Reached QPs limited  4\n",
      "Reached QPs limited  4\n",
      "Reached QPs limited  4\n",
      "Reached QPs limited  4\n",
      "Reached QPs limited  4\n",
      "Reached QPs limited  4\n",
      "Using customized model\n",
      "Training classifier done! Elapsed time: 0:00:00.110335\n",
      "\n",
      "\n",
      "Score evaluations using cross validation with cv = 3:\n",
      "Precision = 0.548611111111111\n",
      "Recall = 0.6041666666666666\n",
      "F-1 Score = 0.5226851851851851\n",
      "Using semantic features False. QPs limited True\n",
      "Reached QPs limited  5\n",
      "Reached QPs limited  5\n",
      "Reached QPs limited  5\n",
      "Reached QPs limited  5\n",
      "Reached QPs limited  5\n",
      "Reached QPs limited  5\n",
      "Reached QPs limited  5\n",
      "Reached QPs limited  5\n",
      "Using customized model\n",
      "Training classifier done! Elapsed time: 0:00:00.126945\n",
      "\n",
      "\n",
      "Score evaluations using cross validation with cv = 5:\n",
      "Precision = 0.5208333333333334\n",
      "Recall = 0.675\n",
      "F-1 Score = 0.6749999999999999\n",
      "Using semantic features False. QPs limited True\n",
      "Reached QPs limited  6\n",
      "Reached QPs limited  6\n",
      "Reached QPs limited  6\n",
      "Reached QPs limited  6\n",
      "Reached QPs limited  6\n",
      "Reached QPs limited  6\n",
      "Reached QPs limited  6\n",
      "Reached QPs limited  6\n",
      "Using customized model\n",
      "Training classifier done! Elapsed time: 0:00:00.119503\n",
      "\n",
      "\n",
      "Score evaluations using cross validation with cv = 5:\n",
      "Precision = 0.7583333333333333\n",
      "Recall = 0.775\n",
      "F-1 Score = 0.7191666666666666\n",
      "Using semantic features False. QPs limited True\n",
      "Reached QPs limited  7\n",
      "Reached QPs limited  7\n",
      "Reached QPs limited  7\n",
      "Reached QPs limited  7\n",
      "Reached QPs limited  7\n",
      "Reached QPs limited  7\n",
      "Reached QPs limited  7\n",
      "Reached QPs limited  7\n",
      "Using customized model\n",
      "Training classifier done! Elapsed time: 0:00:00.128691\n",
      "\n",
      "\n",
      "Score evaluations using cross validation with cv = 5:\n",
      "Precision = 0.7416666666666666\n",
      "Recall = 0.7875\n",
      "F-1 Score = 0.7391666666666665\n",
      "Using semantic features False. QPs limited True\n",
      "Reached QPs limited  8\n",
      "Reached QPs limited  8\n",
      "Reached QPs limited  8\n",
      "Reached QPs limited  8\n",
      "Reached QPs limited  8\n",
      "Reached QPs limited  8\n",
      "Reached QPs limited  8\n",
      "Reached QPs limited  8\n",
      "Using customized model\n",
      "Training classifier done! Elapsed time: 0:00:00.157343\n",
      "\n",
      "\n",
      "Score evaluations using cross validation with cv = 5:\n",
      "Precision = 0.8791666666666667\n",
      "Recall = 0.8875\n",
      "F-1 Score = 0.8441666666666666\n",
      "Using semantic features False. QPs limited True\n",
      "Reached QPs limited  9\n",
      "Reached QPs limited  9\n",
      "Reached QPs limited  9\n",
      "Reached QPs limited  9\n",
      "Reached QPs limited  9\n",
      "Reached QPs limited  9\n",
      "Reached QPs limited  9\n",
      "Reached QPs limited  9\n",
      "Using customized model\n",
      "Training classifier done! Elapsed time: 0:00:00.151555\n",
      "\n",
      "\n",
      "Score evaluations using cross validation with cv = 5:\n",
      "Precision = 0.8791666666666667\n",
      "Recall = 0.9\n",
      "F-1 Score = 0.8191666666666666\n",
      "Using semantic features False. QPs limited True\n",
      "Reached QPs limited  10\n",
      "Reached QPs limited  10\n",
      "Reached QPs limited  10\n",
      "Reached QPs limited  10\n",
      "Reached QPs limited  10\n",
      "Reached QPs limited  10\n",
      "Reached QPs limited  10\n",
      "Reached QPs limited  10\n",
      "Using customized model\n",
      "Training classifier done! Elapsed time: 0:00:00.165335\n",
      "\n",
      "\n",
      "Score evaluations using cross validation with cv = 5:\n",
      "Precision = 0.9416666666666667\n",
      "Recall = 0.9\n",
      "F-1 Score = 0.9083333333333332\n"
     ]
    }
   ],
   "source": [
    "from sklearn.neural_network import MLPClassifier\n",
    "for number_qps in range(2,11):\n",
    "    model = MLPClassifier(hidden_layer_sizes=(100,100))\n",
    "    \n",
    "    X,y = pre_process_classifier(QAI_Manager,use_semantic_features = False,number_qp_samples = number_qps)\n",
    "    clf,t = train_classifier(X,y,model = model)\n",
    "    cv=5\n",
    "    if number_qps < 5:\n",
    "        cv = max((number_qps - 1),2)\n",
    "    p,r,f = clf.eval_model(X,y,cv=cv)\n",
    "    results.append([number_qps,p,r,f,t])"
   ]
  },
  {
   "cell_type": "code",
   "execution_count": 63,
   "metadata": {},
   "outputs": [
    {
     "data": {
      "text/html": [
       "<div>\n",
       "<style scoped>\n",
       "    .dataframe tbody tr th:only-of-type {\n",
       "        vertical-align: middle;\n",
       "    }\n",
       "\n",
       "    .dataframe tbody tr th {\n",
       "        vertical-align: top;\n",
       "    }\n",
       "\n",
       "    .dataframe thead th {\n",
       "        text-align: right;\n",
       "    }\n",
       "</style>\n",
       "<table border=\"1\" class=\"dataframe\">\n",
       "  <thead>\n",
       "    <tr style=\"text-align: right;\">\n",
       "      <th></th>\n",
       "      <th>Number_QPs</th>\n",
       "      <th>Precision</th>\n",
       "      <th>Recall</th>\n",
       "      <th>F1</th>\n",
       "      <th>Time</th>\n",
       "    </tr>\n",
       "  </thead>\n",
       "  <tbody>\n",
       "    <tr>\n",
       "      <th>8</th>\n",
       "      <td>10</td>\n",
       "      <td>0.941667</td>\n",
       "      <td>0.900000</td>\n",
       "      <td>0.908333</td>\n",
       "      <td>00:00:00.165335</td>\n",
       "    </tr>\n",
       "    <tr>\n",
       "      <th>6</th>\n",
       "      <td>8</td>\n",
       "      <td>0.879167</td>\n",
       "      <td>0.887500</td>\n",
       "      <td>0.844167</td>\n",
       "      <td>00:00:00.157343</td>\n",
       "    </tr>\n",
       "    <tr>\n",
       "      <th>7</th>\n",
       "      <td>9</td>\n",
       "      <td>0.879167</td>\n",
       "      <td>0.900000</td>\n",
       "      <td>0.819167</td>\n",
       "      <td>00:00:00.151555</td>\n",
       "    </tr>\n",
       "    <tr>\n",
       "      <th>5</th>\n",
       "      <td>7</td>\n",
       "      <td>0.741667</td>\n",
       "      <td>0.787500</td>\n",
       "      <td>0.739167</td>\n",
       "      <td>00:00:00.128691</td>\n",
       "    </tr>\n",
       "    <tr>\n",
       "      <th>4</th>\n",
       "      <td>6</td>\n",
       "      <td>0.758333</td>\n",
       "      <td>0.775000</td>\n",
       "      <td>0.719167</td>\n",
       "      <td>00:00:00.119503</td>\n",
       "    </tr>\n",
       "    <tr>\n",
       "      <th>3</th>\n",
       "      <td>5</td>\n",
       "      <td>0.520833</td>\n",
       "      <td>0.675000</td>\n",
       "      <td>0.675000</td>\n",
       "      <td>00:00:00.126945</td>\n",
       "    </tr>\n",
       "    <tr>\n",
       "      <th>2</th>\n",
       "      <td>4</td>\n",
       "      <td>0.548611</td>\n",
       "      <td>0.604167</td>\n",
       "      <td>0.522685</td>\n",
       "      <td>00:00:00.110335</td>\n",
       "    </tr>\n",
       "    <tr>\n",
       "      <th>0</th>\n",
       "      <td>2</td>\n",
       "      <td>0.552083</td>\n",
       "      <td>0.500000</td>\n",
       "      <td>0.489583</td>\n",
       "      <td>00:00:00.091874</td>\n",
       "    </tr>\n",
       "    <tr>\n",
       "      <th>1</th>\n",
       "      <td>3</td>\n",
       "      <td>0.447917</td>\n",
       "      <td>0.531250</td>\n",
       "      <td>0.391667</td>\n",
       "      <td>00:00:00.147183</td>\n",
       "    </tr>\n",
       "  </tbody>\n",
       "</table>\n",
       "</div>"
      ],
      "text/plain": [
       "   Number_QPs  Precision    Recall        F1            Time\n",
       "8          10   0.941667  0.900000  0.908333 00:00:00.165335\n",
       "6           8   0.879167  0.887500  0.844167 00:00:00.157343\n",
       "7           9   0.879167  0.900000  0.819167 00:00:00.151555\n",
       "5           7   0.741667  0.787500  0.739167 00:00:00.128691\n",
       "4           6   0.758333  0.775000  0.719167 00:00:00.119503\n",
       "3           5   0.520833  0.675000  0.675000 00:00:00.126945\n",
       "2           4   0.548611  0.604167  0.522685 00:00:00.110335\n",
       "0           2   0.552083  0.500000  0.489583 00:00:00.091874\n",
       "1           3   0.447917  0.531250  0.391667 00:00:00.147183"
      ]
     },
     "execution_count": 63,
     "metadata": {},
     "output_type": "execute_result"
    }
   ],
   "source": [
    "evaluations = pd.DataFrame(results,columns=['Number_QPs','Precision','Recall','F1','Time'])\n",
    "top = evaluations.sort_values(['F1','Time'],ascending=[False,True])\n",
    "top.to_csv(\"evaluations_syntatic_number_qp.csv\", encoding='utf-8', index=False)\n",
    "top"
   ]
  },
  {
   "cell_type": "code",
   "execution_count": 68,
   "metadata": {},
   "outputs": [
    {
     "data": {
      "text/plain": [
       "<matplotlib.axes._subplots.AxesSubplot at 0x7fd61428f978>"
      ]
     },
     "execution_count": 68,
     "metadata": {},
     "output_type": "execute_result"
    },
    {
     "data": {
      "image/png": "[encoded data removed]",
      "text/plain": [
       "<Figure size 432x288 with 1 Axes>"
      ]
     },
     "metadata": {
      "needs_background": "light"
     },
     "output_type": "display_data"
    }
   ],
   "source": [
    "evaluations.plot.line(x='Number_QPs',y='F1')"
   ]
  },
  {
   "cell_type": "code",
   "execution_count": 69,
   "metadata": {},
   "outputs": [
    {
     "data": {
      "text/plain": [
       "<matplotlib.axes._subplots.AxesSubplot at 0x7fd5fde3f470>"
      ]
     },
     "execution_count": 69,
     "metadata": {},
     "output_type": "execute_result"
    },
    {
     "data": {
      "image/png": "[encoded data removed]",
      "text/plain": [
       "<Figure size 432x288 with 1 Axes>"
      ]
     },
     "metadata": {
      "needs_background": "light"
     },
     "output_type": "display_data"
    }
   ],
   "source": [
    "evaluations.plot.line(x='Number_QPs',y='Time')"
   ]
  },
  {
   "cell_type": "code",
   "execution_count": null,
   "metadata": {},
   "outputs": [],
   "source": []
  }
 ],
 "metadata": {
  "kernelspec": {
   "display_name": "Python 3",
   "language": "python",
   "name": "python3"
  },
  "language_info": {
   "codemirror_mode": {
    "name": "ipython",
    "version": 3
   },
   "file_extension": ".py",
   "mimetype": "text/x-python",
   "name": "python",
   "nbconvert_exporter": "python",
   "pygments_lexer": "ipython3",
   "version": "3.7.3"
  }
 },
 "nbformat": 4,
 "nbformat_minor": 2
}
