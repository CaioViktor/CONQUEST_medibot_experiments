{
 "cells": [
  {
   "cell_type": "code",
   "execution_count": 65,
   "metadata": {},
   "outputs": [],
   "source": [
    "def warn(*args, **kwargs):\n",
    "    pass\n",
    "import warnings\n",
    "warnings.warn = warn\n",
    "from pathlib import Path\n",
    "import ontology.Schema as sc\n",
    "import qai.QAI_Manager as q\n",
    "import pickle\n",
    "import os\n",
    "from nlp.NLP_Processor import NLP_Processor\n",
    "from classifier.ML_Classifier import ML_Classifier\n",
    "from nlp.NER_Trainer import NER_Trainer \n",
    "from datetime import datetime\n",
    "import spacy\n",
    "import nlp.Solr_Connection as solr_connection\n",
    "import pandas as pd\n",
    "\n",
    "from config import *  #Change configurations in file \"config.py\"\n",
    "\n",
    "\n",
    "%matplotlib inline\n"
   ]
  },
  {
   "cell_type": "code",
   "execution_count": 4,
   "metadata": {},
   "outputs": [],
   "source": [
    "def train_QAIs():  \n",
    "    schema = sc.getGraph(ontology_path)\n",
    "    classes_index = sc.load_classes_index(schema)\n",
    "    properties_index = sc.load_properties_index(schema)\n",
    "    schema.close()\n",
    "    QAI_Manager = q.QAI_Manager(QAIs_path,properties_index)\n",
    "    ner_trainer = NER_Trainer(QAI_Manager.QAIs,classes_index,sparql_endpoint,graph_name,solr_host,solr_port,solr_core)\n",
    "    ner_trainer.make_train_dataset(savePath=path_train_NER_temp)\n",
    "    return QAI_Manager"
   ]
  },
  {
   "cell_type": "code",
   "execution_count": 5,
   "metadata": {},
   "outputs": [],
   "source": [
    "def pre_process_classifier(QAI_Manager,use_semantic_features = True,number_qp_samples = 0):\n",
    "    labels_path = os.path.join(path_train_NER_temp,\"labels.sav\")\n",
    "    with open(labels_path,\"rb\") as file:\n",
    "        labels_NER = pickle.load(file)\n",
    "    nlp_processor = NLP_Processor(labels_NER,nlp_model_load,startup_solr=False)\n",
    "    QAI_Manager.compute_SVs(nlp_processor)\n",
    "    X,y = ML_Classifier.pre_process_data(QAI_Manager.QAIs,nlp_processor,use_semantic_features,number_qp_samples)\n",
    "    return X,y\n"
   ]
  },
  {
   "cell_type": "code",
   "execution_count": 8,
   "metadata": {},
   "outputs": [],
   "source": [
    "def train_classifier(X,y,model = None):\n",
    "    classifier = ML_Classifier(model_path=\"persistence/classifier\",model_file=\"ml_classifier.sav\",model = model)\n",
    "    time = classifier.fit(X,y)\n",
    "    return classifier,time"
   ]
  },
  {
   "cell_type": "code",
   "execution_count": 7,
   "metadata": {},
   "outputs": [
    {
     "name": "stdout",
     "output_type": "stream",
     "text": [
      "Creating train dataset\n",
      "Created train dataset\n",
      "Using semantic features True. QPs limited False\n"
     ]
    }
   ],
   "source": [
    "QAIs_path = \"input/medibot/MediBot.json\"\n",
    "QAI_Manager = train_QAIs()\n",
    "X,y = pre_process_classifier(QAI_Manager,use_semantic_features = True,number_qp_samples = 0)\n"
   ]
  },
  {
   "cell_type": "code",
   "execution_count": 129,
   "metadata": {},
   "outputs": [],
   "source": [
    "results = []"
   ]
  },
  {
   "cell_type": "code",
   "execution_count": 130,
   "metadata": {},
   "outputs": [
    {
     "name": "stdout",
     "output_type": "stream",
     "text": [
      "Using customized model\n",
      "Training classifier done! Elapsed time: 0:00:00.003659\n",
      "\n",
      "\n",
      "Score evaluations using cross validation with cv = 5:\n",
      "Precision = 0.9833333333333332\n",
      "Recall = 0.975\n",
      "F-1 Score = 0.9733333333333334\n"
     ]
    }
   ],
   "source": [
    "from sklearn.naive_bayes import GaussianNB\n",
    "model = GaussianNB()\n",
    "\n",
    "clf,t = train_classifier(X,y,model = model)\n",
    "p,r,f = clf.eval_model(X,y)\n",
    "results.append([type(clf.model).__name__,p,r,f,t])"
   ]
  },
  {
   "cell_type": "code",
   "execution_count": 131,
   "metadata": {},
   "outputs": [
    {
     "name": "stdout",
     "output_type": "stream",
     "text": [
      "Using customized model\n",
      "Training classifier done! Elapsed time: 0:00:00.005652\n",
      "\n",
      "\n",
      "Score evaluations using cross validation with cv = 5:\n",
      "Precision = 0.6641666666666666\n",
      "Recall = 0.6875\n",
      "F-1 Score = 0.6451190476190476\n"
     ]
    }
   ],
   "source": [
    "from sklearn.naive_bayes import BernoulliNB\n",
    "model = BernoulliNB()\n",
    "\n",
    "clf,t = train_classifier(X,y,model = model)\n",
    "p,r,f = clf.eval_model(X,y)\n",
    "results.append([type(clf.model).__name__,p,r,f,t])"
   ]
  },
  {
   "cell_type": "code",
   "execution_count": 132,
   "metadata": {},
   "outputs": [
    {
     "name": "stdout",
     "output_type": "stream",
     "text": [
      "Using customized model\n",
      "Training classifier done! Elapsed time: 0:00:00.773955\n",
      "\n",
      "\n",
      "Score evaluations using cross validation with cv = 5:\n",
      "Precision = 0.9583333333333333\n",
      "Recall = 0.9375\n",
      "F-1 Score = 0.9333333333333333\n"
     ]
    }
   ],
   "source": [
    "from sklearn.linear_model import LogisticRegression\n",
    "model = LogisticRegression(random_state=0, solver='lbfgs',multi_class='multinomial',n_jobs=-1)\n",
    "\n",
    "clf,t = train_classifier(X,y,model = model)\n",
    "p,r,f = clf.eval_model(X,y)\n",
    "results.append([type(clf.model).__name__,p,r,f,t])"
   ]
  },
  {
   "cell_type": "code",
   "execution_count": 133,
   "metadata": {},
   "outputs": [
    {
     "name": "stdout",
     "output_type": "stream",
     "text": [
      "Using customized model\n",
      "Training classifier done! Elapsed time: 0:00:00.008861\n",
      "\n",
      "\n",
      "Score evaluations using cross validation with cv = 5:\n",
      "Precision = 0.7491666666666666\n",
      "Recall = 0.775\n",
      "F-1 Score = 0.7319047619047618\n"
     ]
    }
   ],
   "source": [
    "from sklearn.svm import SVC\n",
    "model = SVC(gamma='auto')\n",
    "\n",
    "clf,t = train_classifier(X,y,model = model)\n",
    "p,r,f = clf.eval_model(X,y)\n",
    "results.append([type(clf.model).__name__+\" auto\",p,r,f,t])"
   ]
  },
  {
   "cell_type": "code",
   "execution_count": 134,
   "metadata": {},
   "outputs": [
    {
     "name": "stdout",
     "output_type": "stream",
     "text": [
      "Using customized model\n",
      "Training classifier done! Elapsed time: 0:00:00.006610\n",
      "\n",
      "\n",
      "Score evaluations using cross validation with cv = 5:\n",
      "Precision = 0.9833333333333332\n",
      "Recall = 0.975\n",
      "F-1 Score = 0.9733333333333334\n"
     ]
    }
   ],
   "source": [
    "from sklearn.svm import SVC\n",
    "model = SVC(C=1, kernel=\"linear\")\n",
    "\n",
    "\n",
    "clf,t = train_classifier(X,y,model = model)\n",
    "p,r,f = clf.eval_model(X,y)\n",
    "results.append([type(clf.model).__name__+\" linear\",p,r,f,t])"
   ]
  },
  {
   "cell_type": "code",
   "execution_count": 135,
   "metadata": {},
   "outputs": [
    {
     "name": "stdout",
     "output_type": "stream",
     "text": [
      "Using customized model\n",
      "Training classifier done! Elapsed time: 0:00:00.006644\n",
      "\n",
      "\n",
      "Score evaluations using cross validation with cv = 5:\n",
      "Precision = 0.8583333333333332\n",
      "Recall = 0.875\n",
      "F-1 Score = 0.8608333333333332\n"
     ]
    }
   ],
   "source": [
    "from sklearn.tree import DecisionTreeClassifier\n",
    "model = DecisionTreeClassifier(random_state=0)\n",
    "\n",
    "clf,t = train_classifier(X,y,model = model)\n",
    "p,r,f = clf.eval_model(X,y)\n",
    "results.append([type(clf.model).__name__,p,r,f,t])"
   ]
  },
  {
   "cell_type": "code",
   "execution_count": 136,
   "metadata": {},
   "outputs": [
    {
     "name": "stdout",
     "output_type": "stream",
     "text": [
      "Using customized model\n",
      "Training classifier done! Elapsed time: 0:00:00.019199\n",
      "\n",
      "\n",
      "Score evaluations using cross validation with cv = 5:\n",
      "Precision = 0.7275\n",
      "Recall = 0.7875\n",
      "F-1 Score = 0.7383333333333333\n"
     ]
    },
    {
     "name": "stderr",
     "output_type": "stream",
     "text": [
      "/home/caio/anaconda3/lib/python3.7/site-packages/sklearn/ensemble/forest.py:245: FutureWarning: The default value of n_estimators will change from 10 in version 0.20 to 100 in 0.22.\n",
      "  \"10 in version 0.20 to 100 in 0.22.\", FutureWarning)\n",
      "/home/caio/anaconda3/lib/python3.7/site-packages/sklearn/ensemble/forest.py:245: FutureWarning: The default value of n_estimators will change from 10 in version 0.20 to 100 in 0.22.\n",
      "  \"10 in version 0.20 to 100 in 0.22.\", FutureWarning)\n",
      "/home/caio/anaconda3/lib/python3.7/site-packages/sklearn/ensemble/forest.py:245: FutureWarning: The default value of n_estimators will change from 10 in version 0.20 to 100 in 0.22.\n",
      "  \"10 in version 0.20 to 100 in 0.22.\", FutureWarning)\n",
      "/home/caio/anaconda3/lib/python3.7/site-packages/sklearn/ensemble/forest.py:245: FutureWarning: The default value of n_estimators will change from 10 in version 0.20 to 100 in 0.22.\n",
      "  \"10 in version 0.20 to 100 in 0.22.\", FutureWarning)\n",
      "/home/caio/anaconda3/lib/python3.7/site-packages/sklearn/ensemble/forest.py:245: FutureWarning: The default value of n_estimators will change from 10 in version 0.20 to 100 in 0.22.\n",
      "  \"10 in version 0.20 to 100 in 0.22.\", FutureWarning)\n",
      "/home/caio/anaconda3/lib/python3.7/site-packages/sklearn/ensemble/forest.py:245: FutureWarning: The default value of n_estimators will change from 10 in version 0.20 to 100 in 0.22.\n",
      "  \"10 in version 0.20 to 100 in 0.22.\", FutureWarning)\n",
      "/home/caio/anaconda3/lib/python3.7/site-packages/sklearn/ensemble/forest.py:245: FutureWarning: The default value of n_estimators will change from 10 in version 0.20 to 100 in 0.22.\n",
      "  \"10 in version 0.20 to 100 in 0.22.\", FutureWarning)\n",
      "/home/caio/anaconda3/lib/python3.7/site-packages/sklearn/ensemble/forest.py:245: FutureWarning: The default value of n_estimators will change from 10 in version 0.20 to 100 in 0.22.\n",
      "  \"10 in version 0.20 to 100 in 0.22.\", FutureWarning)\n",
      "/home/caio/anaconda3/lib/python3.7/site-packages/sklearn/ensemble/forest.py:245: FutureWarning: The default value of n_estimators will change from 10 in version 0.20 to 100 in 0.22.\n",
      "  \"10 in version 0.20 to 100 in 0.22.\", FutureWarning)\n",
      "/home/caio/anaconda3/lib/python3.7/site-packages/sklearn/ensemble/forest.py:245: FutureWarning: The default value of n_estimators will change from 10 in version 0.20 to 100 in 0.22.\n",
      "  \"10 in version 0.20 to 100 in 0.22.\", FutureWarning)\n",
      "/home/caio/anaconda3/lib/python3.7/site-packages/sklearn/ensemble/forest.py:245: FutureWarning: The default value of n_estimators will change from 10 in version 0.20 to 100 in 0.22.\n",
      "  \"10 in version 0.20 to 100 in 0.22.\", FutureWarning)\n",
      "/home/caio/anaconda3/lib/python3.7/site-packages/sklearn/ensemble/forest.py:245: FutureWarning: The default value of n_estimators will change from 10 in version 0.20 to 100 in 0.22.\n",
      "  \"10 in version 0.20 to 100 in 0.22.\", FutureWarning)\n",
      "/home/caio/anaconda3/lib/python3.7/site-packages/sklearn/ensemble/forest.py:245: FutureWarning: The default value of n_estimators will change from 10 in version 0.20 to 100 in 0.22.\n",
      "  \"10 in version 0.20 to 100 in 0.22.\", FutureWarning)\n",
      "/home/caio/anaconda3/lib/python3.7/site-packages/sklearn/ensemble/forest.py:245: FutureWarning: The default value of n_estimators will change from 10 in version 0.20 to 100 in 0.22.\n",
      "  \"10 in version 0.20 to 100 in 0.22.\", FutureWarning)\n",
      "/home/caio/anaconda3/lib/python3.7/site-packages/sklearn/ensemble/forest.py:245: FutureWarning: The default value of n_estimators will change from 10 in version 0.20 to 100 in 0.22.\n",
      "  \"10 in version 0.20 to 100 in 0.22.\", FutureWarning)\n",
      "/home/caio/anaconda3/lib/python3.7/site-packages/sklearn/ensemble/forest.py:245: FutureWarning: The default value of n_estimators will change from 10 in version 0.20 to 100 in 0.22.\n",
      "  \"10 in version 0.20 to 100 in 0.22.\", FutureWarning)\n"
     ]
    }
   ],
   "source": [
    "from sklearn.ensemble import RandomForestClassifier\n",
    "model = RandomForestClassifier()\n",
    "\n",
    "clf,t = train_classifier(X,y,model = model)\n",
    "p,r,f = clf.eval_model(X,y)\n",
    "results.append([type(clf.model).__name__,p,r,f,t])"
   ]
  },
  {
   "cell_type": "code",
   "execution_count": 137,
   "metadata": {},
   "outputs": [
    {
     "name": "stdout",
     "output_type": "stream",
     "text": [
      "Using customized model\n",
      "Training classifier done! Elapsed time: 0:00:00.007120\n",
      "\n",
      "\n",
      "Score evaluations using cross validation with cv = 5:\n",
      "Precision = 0.8558333333333332\n",
      "Recall = 0.8375\n",
      "F-1 Score = 0.8226190476190476\n"
     ]
    }
   ],
   "source": [
    "from sklearn.neighbors.nearest_centroid import NearestCentroid\n",
    "model = NearestCentroid()\n",
    "\n",
    "clf,t = train_classifier(X,y,model = model)\n",
    "p,r,f = clf.eval_model(X,y)\n",
    "results.append([type(clf.model).__name__,p,r,f,t])"
   ]
  },
  {
   "cell_type": "code",
   "execution_count": 138,
   "metadata": {},
   "outputs": [
    {
     "name": "stdout",
     "output_type": "stream",
     "text": [
      "Using customized model\n",
      "Training classifier done! Elapsed time: 0:00:00.195720\n",
      "\n",
      "\n",
      "Score evaluations using cross validation with cv = 5:\n",
      "Precision = 0.9666666666666666\n",
      "Recall = 0.95\n",
      "F-1 Score = 0.96\n"
     ]
    }
   ],
   "source": [
    "from sklearn.neural_network import MLPClassifier\n",
    "model = MLPClassifier()\n",
    "\n",
    "clf,t = train_classifier(X,y,model = model)\n",
    "p,r,f = clf.eval_model(X,y)\n",
    "results.append([type(clf.model).__name__+\" 1 layer\",p,r,f,t])"
   ]
  },
  {
   "cell_type": "code",
   "execution_count": 139,
   "metadata": {},
   "outputs": [
    {
     "name": "stdout",
     "output_type": "stream",
     "text": [
      "Using customized model\n",
      "Training classifier done! Elapsed time: 0:00:00.178302\n",
      "\n",
      "\n",
      "Score evaluations using cross validation with cv = 5:\n",
      "Precision = 0.9833333333333332\n",
      "Recall = 0.9625\n",
      "F-1 Score = 0.9600000000000002\n"
     ]
    }
   ],
   "source": [
    "from sklearn.neural_network import MLPClassifier\n",
    "model = MLPClassifier(hidden_layer_sizes=(100,100))\n",
    "\n",
    "clf,t = train_classifier(X,y,model = model)\n",
    "p,r,f = clf.eval_model(X,y)\n",
    "results.append([type(clf.model).__name__+\" 2 layers\",p,r,f,t])"
   ]
  },
  {
   "cell_type": "code",
   "execution_count": 140,
   "metadata": {},
   "outputs": [
    {
     "name": "stdout",
     "output_type": "stream",
     "text": [
      "Using customized model\n",
      "Training classifier done! Elapsed time: 0:00:00.096929\n",
      "\n",
      "\n",
      "Score evaluations using cross validation with cv = 5:\n",
      "Precision = 0.2966666666666667\n",
      "Recall = 0.425\n",
      "F-1 Score = 0.2857142857142857\n"
     ]
    }
   ],
   "source": [
    "from sklearn.ensemble import AdaBoostClassifier\n",
    "model = AdaBoostClassifier()\n",
    "\n",
    "clf,t = train_classifier(X,y,model = model)\n",
    "p,r,f = clf.eval_model(X,y)\n",
    "results.append([type(clf.model).__name__,p,r,f,t])"
   ]
  },
  {
   "cell_type": "code",
   "execution_count": 141,
   "metadata": {},
   "outputs": [
    {
     "name": "stdout",
     "output_type": "stream",
     "text": [
      "Using customized model\n",
      "Training classifier done! Elapsed time: 0:00:00.096714\n",
      "\n",
      "\n",
      "Score evaluations using cross validation with cv = 5:\n",
      "Precision = 0.8833333333333332\n",
      "Recall = 0.8875\n",
      "F-1 Score = 0.8683333333333334\n"
     ]
    }
   ],
   "source": [
    "from sklearn.ensemble import AdaBoostClassifier\n",
    "from sklearn.ensemble import RandomForestClassifier\n",
    "model = AdaBoostClassifier(base_estimator=RandomForestClassifier(n_estimators=100),n_estimators=100,learning_rate=0.5)\n",
    "\n",
    "clf,t = train_classifier(X,y,model = model)\n",
    "p,r,f = clf.eval_model(X,y)\n",
    "results.append([type(clf.model).__name__+\" (RandomForest)\",p,r,f,t])"
   ]
  },
  {
   "cell_type": "code",
   "execution_count": 142,
   "metadata": {},
   "outputs": [
    {
     "name": "stdout",
     "output_type": "stream",
     "text": [
      "Using customized model\n",
      "Training classifier done! Elapsed time: 0:00:00.005864\n",
      "\n",
      "\n",
      "Score evaluations using cross validation with cv = 5:\n",
      "Precision = 0.7929166666666667\n",
      "Recall = 0.775\n",
      "F-1 Score = 0.7577380952380952\n"
     ]
    }
   ],
   "source": [
    "from sklearn.neighbors import KNeighborsClassifier\n",
    "model = KNeighborsClassifier()\n",
    "\n",
    "\n",
    "clf,t = train_classifier(X,y,model = model)\n",
    "p,r,f = clf.eval_model(X,y)\n",
    "results.append([type(clf.model).__name__,p,r,f,t])"
   ]
  },
  {
   "cell_type": "code",
   "execution_count": 143,
   "metadata": {},
   "outputs": [
    {
     "name": "stdout",
     "output_type": "stream",
     "text": [
      "Using customized model\n",
      "Training classifier done! Elapsed time: 0:00:00.006308\n",
      "\n",
      "\n",
      "Score evaluations using cross validation with cv = 5:\n",
      "Precision = 0.8791666666666667\n",
      "Recall = 0.875\n",
      "F-1 Score = 0.86\n"
     ]
    }
   ],
   "source": [
    "from sklearn.neighbors import KNeighborsClassifier\n",
    "model = KNeighborsClassifier(n_neighbors=1)\n",
    "\n",
    "\n",
    "clf,t = train_classifier(X,y,model = model)\n",
    "p,r,f = clf.eval_model(X,y)\n",
    "results.append(['Nearest Neighbor',p,r,f,t])"
   ]
  },
  {
   "cell_type": "code",
   "execution_count": 144,
   "metadata": {},
   "outputs": [
    {
     "name": "stdout",
     "output_type": "stream",
     "text": [
      "Using customized model\n",
      "Training classifier done! Elapsed time: 0:00:00.005941\n",
      "\n",
      "\n",
      "Score evaluations using cross validation with cv = 5:\n",
      "Precision = 0.41380952380952374\n",
      "Recall = 0.4375\n",
      "F-1 Score = 0.3878968253968254\n"
     ]
    }
   ],
   "source": [
    "from sklearn.discriminant_analysis import QuadraticDiscriminantAnalysis\n",
    "model = QuadraticDiscriminantAnalysis()\n",
    "\n",
    "\n",
    "clf,t = train_classifier(X,y,model = model)\n",
    "p,r,f = clf.eval_model(X,y)\n",
    "results.append([type(clf.model).__name__,p,r,f,t])"
   ]
  },
  {
   "cell_type": "code",
   "execution_count": 145,
   "metadata": {},
   "outputs": [
    {
     "name": "stdout",
     "output_type": "stream",
     "text": [
      "Using customized model\n",
      "Training classifier done! Elapsed time: 0:00:00.138614\n",
      "\n",
      "\n",
      "Score evaluations using cross validation with cv = 5:\n",
      "Precision = 0.9833333333333332\n",
      "Recall = 0.975\n",
      "F-1 Score = 0.9733333333333334\n"
     ]
    }
   ],
   "source": [
    "from sklearn.naive_bayes import GaussianNB\n",
    "from sklearn.linear_model import LogisticRegression\n",
    "from sklearn.ensemble import  VotingClassifier\n",
    "gaussian = GaussianNB()\n",
    "linear = LogisticRegression(random_state=0, solver='lbfgs',multi_class='multinomial',n_jobs=-1)\n",
    "\n",
    "model = VotingClassifier(estimators=[('gaus', gaussian), ('line', linear)],voting='soft',n_jobs=-1)\n",
    "\n",
    "\n",
    "clf,t = train_classifier(X,y,model = model)\n",
    "p,r,f = clf.eval_model(X,y)\n",
    "results.append([\"Soft \"+type(clf.model).__name__+\" (GaussianNB + LogisticRegression)\",p,r,f,t])"
   ]
  },
  {
   "cell_type": "code",
   "execution_count": 149,
   "metadata": {},
   "outputs": [
    {
     "data": {
      "text/html": [
       "<div>\n",
       "<style scoped>\n",
       "    .dataframe tbody tr th:only-of-type {\n",
       "        vertical-align: middle;\n",
       "    }\n",
       "\n",
       "    .dataframe tbody tr th {\n",
       "        vertical-align: top;\n",
       "    }\n",
       "\n",
       "    .dataframe thead th {\n",
       "        text-align: right;\n",
       "    }\n",
       "</style>\n",
       "<table border=\"1\" class=\"dataframe\">\n",
       "  <thead>\n",
       "    <tr style=\"text-align: right;\">\n",
       "      <th></th>\n",
       "      <th>Classifier</th>\n",
       "      <th>Precision</th>\n",
       "      <th>Recall</th>\n",
       "      <th>F1</th>\n",
       "      <th>Time</th>\n",
       "    </tr>\n",
       "  </thead>\n",
       "  <tbody>\n",
       "    <tr>\n",
       "      <th>0</th>\n",
       "      <td>GaussianNB</td>\n",
       "      <td>0.983333</td>\n",
       "      <td>0.9750</td>\n",
       "      <td>0.973333</td>\n",
       "      <td>00:00:00.003659</td>\n",
       "    </tr>\n",
       "    <tr>\n",
       "      <th>4</th>\n",
       "      <td>SVC linear</td>\n",
       "      <td>0.983333</td>\n",
       "      <td>0.9750</td>\n",
       "      <td>0.973333</td>\n",
       "      <td>00:00:00.006610</td>\n",
       "    </tr>\n",
       "    <tr>\n",
       "      <th>15</th>\n",
       "      <td>Soft VotingClassifier (GaussianNB + LogisticRe...</td>\n",
       "      <td>0.983333</td>\n",
       "      <td>0.9750</td>\n",
       "      <td>0.973333</td>\n",
       "      <td>00:00:00.138614</td>\n",
       "    </tr>\n",
       "    <tr>\n",
       "      <th>9</th>\n",
       "      <td>MLPClassifier 2 layers</td>\n",
       "      <td>0.983333</td>\n",
       "      <td>0.9625</td>\n",
       "      <td>0.960000</td>\n",
       "      <td>00:00:00.178302</td>\n",
       "    </tr>\n",
       "    <tr>\n",
       "      <th>8</th>\n",
       "      <td>MLPClassifier 1 layer</td>\n",
       "      <td>0.966667</td>\n",
       "      <td>0.9500</td>\n",
       "      <td>0.960000</td>\n",
       "      <td>00:00:00.195720</td>\n",
       "    </tr>\n",
       "  </tbody>\n",
       "</table>\n",
       "</div>"
      ],
      "text/plain": [
       "                                           Classifier  Precision  Recall  \\\n",
       "0                                          GaussianNB   0.983333  0.9750   \n",
       "4                                          SVC linear   0.983333  0.9750   \n",
       "15  Soft VotingClassifier (GaussianNB + LogisticRe...   0.983333  0.9750   \n",
       "9                              MLPClassifier 2 layers   0.983333  0.9625   \n",
       "8                               MLPClassifier 1 layer   0.966667  0.9500   \n",
       "\n",
       "          F1            Time  \n",
       "0   0.973333 00:00:00.003659  \n",
       "4   0.973333 00:00:00.006610  \n",
       "15  0.973333 00:00:00.138614  \n",
       "9   0.960000 00:00:00.178302  \n",
       "8   0.960000 00:00:00.195720  "
      ]
     },
     "execution_count": 149,
     "metadata": {},
     "output_type": "execute_result"
    }
   ],
   "source": [
    "evaluations = pd.DataFrame(results,columns=['Classifier','Precision','Recall','F1','Time'])\n",
    "top_5 = evaluations.sort_values(['F1','Time'],ascending=[False,True]).head(5)\n",
    "top_5.to_csv(\"top5_evaluations_semantic.csv\", encoding='utf-8', index=False)\n",
    "top_5"
   ]
  },
  {
   "cell_type": "code",
   "execution_count": 148,
   "metadata": {},
   "outputs": [],
   "source": []
  },
  {
   "cell_type": "code",
   "execution_count": null,
   "metadata": {},
   "outputs": [],
   "source": []
  }
 ],
 "metadata": {
  "kernelspec": {
   "display_name": "Python 3",
   "language": "python",
   "name": "python3"
  },
  "language_info": {
   "codemirror_mode": {
    "name": "ipython",
    "version": 3
   },
   "file_extension": ".py",
   "mimetype": "text/x-python",
   "name": "python",
   "nbconvert_exporter": "python",
   "pygments_lexer": "ipython3",
   "version": "3.7.3"
  }
 },
 "nbformat": 4,
 "nbformat_minor": 2
}
